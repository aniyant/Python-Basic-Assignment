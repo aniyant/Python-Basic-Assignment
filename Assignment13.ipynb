{
 "cells": [
  {
   "cell_type": "code",
   "execution_count": null,
   "metadata": {},
   "outputs": [],
   "source": [
    "1.) What advantages do Excel spreadsheets have over CSV spreadsheets?\n",
    "\n",
    "Ans:- csv refers to comma separated values.It holds plains text as series of values(cells) separated by commas(,) in a series of lines (rows).  Wheras\n",
    "      Excel is document which has horizontal as well as vertical rows.\n",
    "      Advantages of Excel over csv is excel can store data in text,number as well tables and charts formats.Excel also comes with various function to \n",
    "      manipulates or show data and charts."
   ]
  },
  {
   "cell_type": "code",
   "execution_count": null,
   "metadata": {},
   "outputs": [],
   "source": [
    "2.) What do you pass to csv.reader() and csv.writer() to create reader and writer objects?\n",
    "\n",
    "Ans:- we pass csv file object open with read mode to csv.reader(file) and we pass csv file object open with write mode to csv.writer(fileobj)."
   ]
  },
  {
   "cell_type": "code",
   "execution_count": 1,
   "metadata": {},
   "outputs": [],
   "source": [
    "3.) What modes do File objects for reader and writer objects need to be opened in?\n",
    "\n",
    "Ans:- we pass csv file object open with read mode to csv.reader(file) and we pass csv file object open with write mode to csv.writer(fileobj)."
   ]
  },
  {
   "cell_type": "code",
   "execution_count": null,
   "metadata": {},
   "outputs": [],
   "source": [
    "4.) What method takes a list argument and writes it to a CSV file?\n",
    "\n",
    "Ans:- writerow(['a','b']) method of csv.writer(fileobj) object takes list of argument and write it to a csv file."
   ]
  },
  {
   "cell_type": "code",
   "execution_count": null,
   "metadata": {},
   "outputs": [],
   "source": [
    "5.) What do the keyword arguments delimiter and line terminator do?\n",
    "\n",
    "Ans:- The keyword arguments delimiter signifies each cell values which are by default are separated by comma but we can also change it.\n",
    "      The keyword arguments line terminator signifies the end of the each row, by default it newline but it can be changed."
   ]
  },
  {
   "cell_type": "code",
   "execution_count": null,
   "metadata": {},
   "outputs": [],
   "source": [
    "6.) What function takes a string of JSON data and returns a Python data structure?\n",
    "\n",
    "Ans:- load(jsonfile) function of json module takes string of json data and return a python data structure."
   ]
  },
  {
   "cell_type": "code",
   "execution_count": null,
   "metadata": {},
   "outputs": [],
   "source": [
    "7.) What function takes a Python data structure and returns a string of JSON data?\n",
    "\n",
    "Ans:- dumps() function of json module takes python data structure and return a string of JSON data."
   ]
  }
 ],
 "metadata": {
  "kernelspec": {
   "display_name": "Python 3",
   "language": "python",
   "name": "python3"
  },
  "language_info": {
   "codemirror_mode": {
    "name": "ipython",
    "version": 3
   },
   "file_extension": ".py",
   "mimetype": "text/x-python",
   "name": "python",
   "nbconvert_exporter": "python",
   "pygments_lexer": "ipython3",
   "version": "3.8.5"
  }
 },
 "nbformat": 4,
 "nbformat_minor": 4
}
