{
 "cells": [
  {
   "cell_type": "markdown",
   "metadata": {},
   "source": [
    "#### Assignment 9 of python basic assignment"
   ]
  },
  {
   "cell_type": "code",
   "execution_count": null,
   "metadata": {},
   "outputs": [],
   "source": [
    "1.) To what does a relative path refer?\n",
    "\n",
    "Ans:- The relative path refers to a location that is relative to the current directory."
   ]
  },
  {
   "cell_type": "code",
   "execution_count": null,
   "metadata": {},
   "outputs": [],
   "source": [
    "2.) What does an absolute path start with your operating system?\n",
    "\n",
    "Ans:- I use window operating system, in this os system, an absolute path starts with a drive like C:\\."
   ]
  },
  {
   "cell_type": "code",
   "execution_count": null,
   "metadata": {},
   "outputs": [],
   "source": [
    "3.) What do the functions os.getcwd() and os.chdir() do?\n",
    "\n",
    "Ans:- os.getcwd() function is to find and return the current working directory of our system and \n",
    "      os.chdir() function is to change the current working directory to the mentioned directory location."
   ]
  },
  {
   "cell_type": "code",
   "execution_count": null,
   "metadata": {},
   "outputs": [],
   "source": [
    "4.) What are the . and .. folders?\n",
    "\n",
    "Ans:- . folder refers to present directory or folder and .. folder refers to the parent directory or folder."
   ]
  },
  {
   "cell_type": "code",
   "execution_count": null,
   "metadata": {},
   "outputs": [],
   "source": [
    "5.) In C:\\bacon\\eggs\\spam.txt, which part is the dir name, and which part is the base name?\n",
    "    \n",
    "Ans:- C:\\bacon\\eggs is the dir name, while spam.txt is the base name."
   ]
  },
  {
   "cell_type": "code",
   "execution_count": null,
   "metadata": {},
   "outputs": [],
   "source": [
    "6.) What are the three “mode” arguments that can be passed to the open() function?\n",
    "\n",
    "Ans:-The string 'r' for read mode, 'w' for write mode, and 'a' for append mode."
   ]
  },
  {
   "cell_type": "code",
   "execution_count": null,
   "metadata": {},
   "outputs": [],
   "source": [
    "7.) What happens if an existing file is opened in write mode?\n",
    "\n",
    "Ans:- An existing file opened in write mode is erased and completely overwritten."
   ]
  },
  {
   "cell_type": "code",
   "execution_count": null,
   "metadata": {},
   "outputs": [],
   "source": [
    "8.) How do you tell the difference between read() and readlines()?\n",
    "\n",
    "Ans:- The read() method returns the file's entire contents as a single string value. The readlines() method returns a list of strings, \n",
    "      where each string is a line from the file's contents."
   ]
  },
  {
   "cell_type": "code",
   "execution_count": null,
   "metadata": {},
   "outputs": [],
   "source": [
    "9.) What data structure does a shelf value resemble?\n",
    "\n",
    "Ans:- A shelf value resembles a dictionary value; it has keys and values, along with keys() and values() methods that work similarly\n",
    "      to the dictionary methods of the same names."
   ]
  }
 ],
 "metadata": {
  "kernelspec": {
   "display_name": "Python 3",
   "language": "python",
   "name": "python3"
  },
  "language_info": {
   "codemirror_mode": {
    "name": "ipython",
    "version": 3
   },
   "file_extension": ".py",
   "mimetype": "text/x-python",
   "name": "python",
   "nbconvert_exporter": "python",
   "pygments_lexer": "ipython3",
   "version": "3.8.5"
  }
 },
 "nbformat": 4,
 "nbformat_minor": 4
}
