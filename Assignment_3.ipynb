{
 "cells": [
  {
   "cell_type": "markdown",
   "metadata": {},
   "source": [
    "### Assignment of python basic Assignment"
   ]
  },
  {
   "cell_type": "markdown",
   "metadata": {},
   "source": [
    "1.) Why are functions advantageous to have in your programs?\n",
    "\n",
    "Ans:-The advantages of using functions are as follow :-\n",
    "\n",
    "      i) Reducing duplication of code\n",
    "      ii) Decomposing complex problems into simpler pieces\n",
    "      iii) Improving clarity of the code\n",
    "      iv) Reuse of code\n",
    "       v) Information hiding  \n",
    "    \n",
    "     Functions in Python are first-class citizens.It means that function have equal status as with other objects in python. \n",
    "     Functions can be assigned to variables, stored in collections, or passed as arguments. \n",
    "     "
   ]
  },
  {
   "cell_type": "markdown",
   "metadata": {},
   "source": [
    "2.) When does the code in a function run: when it's specified or when it's called ?\n",
    "\n",
    "Ans:- The code in a function run when function is called within the program not when the function is specified in the program,\n",
    "      Function is simply called by it's name followed by parentheses which must contain the valid positional arguments.\n",
    "      Ex- function_name(arg1,arg2).\n",
    "        "
   ]
  },
  {
   "cell_type": "markdown",
   "metadata": {},
   "source": [
    "3.) What statement creates a function ?\n",
    "\n",
    "Ans:- def keyword followed by function name which is followed by parentheses and colon creates function.\n",
    "      Parentheses may contains some parameters which will be used inside the function.\n",
    "      Ex- def function_name(arg1,arg2):\n",
    "              pass\n",
    "            \n",
    "        "
   ]
  },
  {
   "cell_type": "markdown",
   "metadata": {},
   "source": [
    "4.) What is the difference between a function and a function call ?\n",
    "\n",
    "Ans:- Function is defined using def keyword followed by function name and parentheses which may ontains parameters.\n",
    "      Every function has a body which contains executable codes inside it.\n",
    "      Whereas function call is a statement contains function name followed by parentheses which must contains valid positional arguments.\n",
    "      function is never executed by the interpreter unless it is called by the program through function call statement.\n",
    "      So function contains executable codes whereas function call called the function with valid positional arguments then function gets executed by \n",
    "      interpreter.\n",
    "    "
   ]
  },
  {
   "cell_type": "markdown",
   "metadata": {},
   "source": [
    "5.) How many global scopes are there in a Python program? How many local scopes?\n",
    "\n",
    "Ans:- There is always one global scope gets created in the program which will be in existence as long as program will go under execution. \n",
    "      Variables comes under the global scope gets destroyed when program terminates thus global scope also terminates.\n",
    "      There can be many local scopes which may be get created as function gets created in the program. Inside the function,if variables get \n",
    "      declared without global keyword comes under the local scope and they are accessed first then comes global and comes built-in variables. \n",
    "      These local variables gets destroyed when the function execution gets completed."
   ]
  },
  {
   "cell_type": "markdown",
   "metadata": {},
   "source": [
    "6.) What happens to variables in a local scope when the function call returns?\n",
    "\n",
    "Ans:- All variables which belongs to the local scope of that function gets destroyed when the function call returns."
   ]
  },
  {
   "cell_type": "markdown",
   "metadata": {},
   "source": [
    "7.) What is the concept of a return value ? Is it possible to have a return value in an expression?\n",
    "\n",
    "Ans:- As data type of the function is NoneType So output of the funtion can't be used in further operations like storing it in a variable or using \n",
    "      it in other function or in other expressions. To eradicate this, return statement is used inside the function as return gives the output having \n",
    "      the data type same as value. return can also gives multiple value but in a tuple.\n",
    "      Yes, it is possible to have a return value in an expression like return 5*6+3-9.\n",
    "      "
   ]
  },
  {
   "cell_type": "markdown",
   "metadata": {},
   "source": [
    "8.) If a function does not have a return statement, what is the return value of a call to that function?\n",
    "\n",
    "Ans:- The return value will be None which is a data type of NoneType. if we run the program given below \n",
    "      return will be None.\n",
    "                def func():\n",
    "                    a = 10\n",
    "                    print(10)\n",
    "                c = func()\n",
    "                print(c)"
   ]
  },
  {
   "cell_type": "markdown",
   "metadata": {},
   "source": [
    "9.)How do you make a function variable refer to the global variable?\n",
    "\n",
    "Ans:- Function variable can be refered to the global variable when we declare it as global using global keyword.Ex- global variable_name\n",
    "        "
   ]
  },
  {
   "cell_type": "markdown",
   "metadata": {},
   "source": [
    "10.) What is the data type of None?\n",
    "\n",
    "Ans:- Data type of None is NoneType."
   ]
  },
  {
   "cell_type": "markdown",
   "metadata": {},
   "source": [
    "11.) What does the sentence import areallyourpetsnamederic do?\n",
    "\n",
    "Ans:- The import areallyourpetsnamederic will import the areallyourpetsnamederic module which is .py file. We can use the function and variable of module \n",
    "      in the program after importing it.\n",
    "    "
   ]
  },
  {
   "cell_type": "markdown",
   "metadata": {},
   "source": [
    "12.) If you had a bacon() feature in a spam module, what would you call it after importing spam?\n",
    "\n",
    "Ans:- We will call it like spam.bacon() after importing spam."
   ]
  },
  {
   "cell_type": "markdown",
   "metadata": {},
   "source": [
    "13.) What can you do to save a programme from crashing if it encounters an error?\n",
    "\n",
    "Ans:- We can use exception handling wherever we think program can encounter an error.\n",
    "      We can put the suspicious code block inside the try block and can handle it using except block."
   ]
  },
  {
   "cell_type": "markdown",
   "metadata": {},
   "source": [
    "14.) what is the purpose of the try clause? What is the purpose of the except clause?\n",
    "\n",
    "Ans:- try clause will execute the code block, if it encounters error it will raise the exception and transfer the execution to except block to handle it.\n",
    "      The except clause will understand the kind of error which has been produced and so it can show to the programmer to fix it."
   ]
  },
  {
   "cell_type": "code",
   "execution_count": null,
   "metadata": {},
   "outputs": [],
   "source": []
  },
  {
   "cell_type": "code",
   "execution_count": null,
   "metadata": {},
   "outputs": [],
   "source": []
  },
  {
   "cell_type": "code",
   "execution_count": null,
   "metadata": {},
   "outputs": [],
   "source": []
  },
  {
   "cell_type": "code",
   "execution_count": null,
   "metadata": {},
   "outputs": [],
   "source": []
  }
 ],
 "metadata": {
  "kernelspec": {
   "display_name": "Python 3",
   "language": "python",
   "name": "python3"
  },
  "language_info": {
   "codemirror_mode": {
    "name": "ipython",
    "version": 3
   },
   "file_extension": ".py",
   "mimetype": "text/x-python",
   "name": "python",
   "nbconvert_exporter": "python",
   "pygments_lexer": "ipython3",
   "version": "3.8.5"
  }
 },
 "nbformat": 4,
 "nbformat_minor": 4
}
