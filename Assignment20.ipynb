{
 "cells": [
  {
   "cell_type": "code",
   "execution_count": null,
   "metadata": {},
   "outputs": [],
   "source": [
    "1.) Set the variable test1 to the string \"This is a test of the emergency text system,\" and save test1 to a\n",
    "file named test.txt.\n",
    "\n",
    "Ans:- test1 = \"This is a test of the emergency text system\" setting variable\n",
    "      ok.This file is saved as test.txt"
   ]
  },
  {
   "cell_type": "code",
   "execution_count": null,
   "metadata": {},
   "outputs": [],
   "source": [
    "2.) Read the contents of the file test.txt into the variable test2. Is there a difference between test 1\n",
    "and test 2?\n",
    "\n",
    "Ans:- Contents of the file test.txt saved into the variable test2 as string test1 might be a variable but test2 is a string"
   ]
  },
  {
   "cell_type": "code",
   "execution_count": null,
   "metadata": {},
   "outputs": [],
   "source": [
    "3.) Create a CSV file called books.csv by using these lines:\n",
    "title,author,year\n",
    "The Weirdstone of Brisingamen,Alan Garner,1960\n",
    "Perdido Street Station,China Miéville,2000\n",
    "Thud!,Terry Pratchett,2005\n",
    "The Spellman Files,Lisa Lutz,2007\n",
    "Small Gods,Terry Pratchett,1992\n",
    "\n",
    "Ans:- \n",
    "import csv\n",
    "header = ['title','author','year']\n",
    "data = [\n",
    "    ['The Weirdstone of Brisingamen','Alan garner',1960],\n",
    "    ['perdido Street Station','China','Mieville',2000],\n",
    "    ['Thud!','Terry Pratcheet',2005],\n",
    "    ['The Spellman Files','Lisa Lutz',2007],\n",
    "    ['Small gods','Terry Pratchett',1992]\n",
    "]\n",
    "with open('books.csv','w',encoding='UTF8',newline = '') as f:\n",
    "    writer = csv.writer(f)\n",
    "    ## header\n",
    "    writer.writerow(header)\n",
    "    \n",
    "    #daata\n",
    "    writer.writerows(data)\n",
    "    \n",
    "    f.close()\n",
    "\n"
   ]
  },
  {
   "cell_type": "code",
   "execution_count": null,
   "metadata": {},
   "outputs": [],
   "source": [
    "4.) Use the sqlite3 module to create a SQLite database called books.db, and a table called books with\n",
    "these fields: title (text), author (text), and year (integer).\n",
    "\n",
    "Ans:-\n",
    "import csv\n",
    "\n",
    "try:\n",
    "    # database connection\n",
    "    \n",
    "    conn = sql.connect('book.db')\n",
    "    cur = conn.cursor()\n",
    "    \n",
    "    # creating table\n",
    "    cur.execute(\"create table book(title text,author text, year int)\")\n",
    "except Exception as e:\n",
    "    print(e)\n"
   ]
  },
  {
   "cell_type": "code",
   "execution_count": null,
   "metadata": {},
   "outputs": [],
   "source": [
    "5.) Read books.csv and insert its data into the book table.\n",
    "\n",
    "Ans:-\n",
    "try:\n",
    "    with open(\"books.csv\",'r') as f:  # file opening\n",
    "        data = csv.reader(f,)  # reading csv file\n",
    "        for d in data:\n",
    "            if d[0] == 'title':  # skipping the first row which header\n",
    "                continue\n",
    "            else:\n",
    "                # finally inserting data with proper format\n",
    "                command = f\"insert into book(title,author,year) values('{d[0]}','{d[1]}','{d[2]}')\"\n",
    "                print(command)\n",
    "                cur.execute(command) #executing command\n",
    "    conn.commit()\n",
    "except Exception as e:\n",
    "    print('opne',e)\n",
    "    conn.rollback()"
   ]
  },
  {
   "cell_type": "code",
   "execution_count": null,
   "metadata": {},
   "outputs": [],
   "source": [
    "6.) Select and print the title column from the book table in alphabetical order.\n",
    "\n",
    "Ans:-\n",
    "conn = sql.connect('book.db')\n",
    "cur = conn.cursor()\n",
    "cur.execute(\"select title from book order by title ASC\")\n",
    "books_title = cur.fetchall()\n",
    "print('Books Available in book database :- ')\n",
    "for t in books_title:  \n",
    "    print(t[0])"
   ]
  },
  {
   "cell_type": "code",
   "execution_count": null,
   "metadata": {},
   "outputs": [],
   "source": [
    "7.) From the book table, select and print all columns in the order of publication.\n",
    "\n",
    "Ans:- \n",
    "conn = sql.connect('book.db')\n",
    "cur = conn.cursor()\n",
    "cur.execute(\"select title,year from book order by year ASC\")\n",
    "for i in cur.fetchall():\n",
    "    print('title : ',i[0], i[1])"
   ]
  },
  {
   "cell_type": "code",
   "execution_count": null,
   "metadata": {},
   "outputs": [],
   "source": [
    "8.) Use the sqlalchemy module to connect to the sqlite3 database books.db that you just made in\n",
    "exercise 6.\n",
    "\n",
    "Ans:-\n",
    "import sqlalchemy\n",
    "from sqlalchemy import create_engine\n",
    "engine = create_engine('sqlite:///book.db', echo = True)\n",
    "conn = engine.connect()\n",
    "s = book.select()\n",
    "result = conn.execute(s)\n",
    "\n",
    "for row in result:\n",
    "   print (row)"
   ]
  },
  {
   "cell_type": "code",
   "execution_count": null,
   "metadata": {},
   "outputs": [],
   "source": [
    "9.) Install the Redis server and the Python redis library (pip install redis) on your computer. Create a\n",
    "Redis hash called test with the fields count (1) and name ('Fester Bestertester'). Print all the fields for\n",
    "test.\n",
    "\n",
    "Ans:- \n",
    "To install use :- pip install redis\n",
    "    \n",
    "import redis\n",
    "conn = redis.Redis()\n",
    "conn.delete('test')\n",
    "conn.hmset('test', {'count': 1, 'name': 'Fester Bestertester'})\n",
    "conn.hgetall('test')"
   ]
  },
  {
   "cell_type": "code",
   "execution_count": null,
   "metadata": {},
   "outputs": [],
   "source": [
    "10.) Increment the count field of test and print it.\n",
    "\n",
    "Ans:- conn.hincrby('test','count', 3)"
   ]
  },
  {
   "cell_type": "code",
   "execution_count": null,
   "metadata": {},
   "outputs": [],
   "source": []
  }
 ],
 "metadata": {
  "kernelspec": {
   "display_name": "Python 3",
   "language": "python",
   "name": "python3"
  },
  "language_info": {
   "codemirror_mode": {
    "name": "ipython",
    "version": 3
   },
   "file_extension": ".py",
   "mimetype": "text/x-python",
   "name": "python",
   "nbconvert_exporter": "python",
   "pygments_lexer": "ipython3",
   "version": "3.8.5"
  }
 },
 "nbformat": 4,
 "nbformat_minor": 4
}
