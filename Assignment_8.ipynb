{
 "cells": [
  {
   "cell_type": "markdown",
   "metadata": {},
   "source": [
    "#### Assignment no. 8 of python basic assignment"
   ]
  },
  {
   "cell_type": "code",
   "execution_count": null,
   "metadata": {},
   "outputs": [],
   "source": [
    "1.) Is the Python Standard Library included with PyInputPlus?\n",
    "\n",
    "Ans:- No, PyInputPlus is not included in Python Standard Library. We can install it using this: pip install PyInputPlus"
   ]
  },
  {
   "cell_type": "code",
   "execution_count": null,
   "metadata": {},
   "outputs": [],
   "source": [
    "2.) Why is PyInputPlus commonly imported with import pyinputplus as pypi?\n",
    "\n",
    "Ans:- It is beacause pyinputplus is long so to make it short we use alias name.\n",
    "      Ex- import pyinputplus as pypi. In this pypi is alias name which can be used when calling modules's function."
   ]
  },
  {
   "cell_type": "code",
   "execution_count": null,
   "metadata": {},
   "outputs": [],
   "source": [
    "3.) How do you distinguish between inputInt() and inputFloat()?\n",
    "\n",
    "Ans:- inputInt() only accepts data of data type int and return int whereas inputFloat() can accept data of data type int or float but return always float."
   ]
  },
  {
   "cell_type": "code",
   "execution_count": null,
   "metadata": {},
   "outputs": [],
   "source": [
    "4.) Using PyInputPlus, how do you ensure that the user enters a whole number between 0 and 99?\n",
    "\n",
    "Ans:- we can set either min=0 and max=99 where min and max are keyword arguments where min ensure minimum input value and max ensure maximum input value.\n",
    "      We can also use greaterthan and lessthan keyword arguements: Ex-\n",
    "        import pyinputplus as pyip\n",
    "        num1 = pyip.inputInt(prompt=\"enter a int (0,99) = \",min=0,max=99)\n",
    "        num2 = pyip.inputInt(prompt='enter a int(0,99) = ',greaterThan=-1,lessThan=100)\n"
   ]
  },
  {
   "cell_type": "code",
   "execution_count": null,
   "metadata": {},
   "outputs": [],
   "source": [
    "5.) What is transferred to the keyword arguments allowRegexes and blockRegexes?\n",
    "\n",
    "Ans:- allowRegexes keyword takes values which are allowed as a input and blockRegexes keyword takes values which are not allowed as a input."
   ]
  },
  {
   "cell_type": "code",
   "execution_count": null,
   "metadata": {},
   "outputs": [],
   "source": [
    "6.) If a blank input is entered three times, what does inputStr(limit=3) do?\n",
    "\n",
    "Ans:- After three times, limit is exceeded hence method will raise the RetryLimitException."
   ]
  },
  {
   "cell_type": "code",
   "execution_count": null,
   "metadata": {},
   "outputs": [],
   "source": [
    "7.) If blank input is entered three times, what does inputStr(limit=3,default='hello') do?\n",
    "\n",
    "Ans:- After three times, method will return the default value 'hello'"
   ]
  },
  {
   "cell_type": "code",
   "execution_count": null,
   "metadata": {},
   "outputs": [],
   "source": []
  },
  {
   "cell_type": "code",
   "execution_count": null,
   "metadata": {},
   "outputs": [],
   "source": []
  }
 ],
 "metadata": {
  "kernelspec": {
   "display_name": "Python 3",
   "language": "python",
   "name": "python3"
  },
  "language_info": {
   "codemirror_mode": {
    "name": "ipython",
    "version": 3
   },
   "file_extension": ".py",
   "mimetype": "text/x-python",
   "name": "python",
   "nbconvert_exporter": "python",
   "pygments_lexer": "ipython3",
   "version": "3.8.5"
  }
 },
 "nbformat": 4,
 "nbformat_minor": 4
}
