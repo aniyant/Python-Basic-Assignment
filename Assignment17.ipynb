{
 "cells": [
  {
   "cell_type": "code",
   "execution_count": null,
   "metadata": {},
   "outputs": [],
   "source": [
    "1.) Assign the value 7 to the variable guess_me. Then, write the conditional tests (if, else, and elif) to\n",
    "print the string 'too low' if guess_me is less than 7, 'too high' if greater than 7, and 'just right' if equal to 7.\n",
    "\n",
    "Ans;- guess_me = 7\n",
    "      if guess_me < 7:\n",
    "        print('too low')\n",
    "      elif guess_me > 7:\n",
    "        print('too high')\n",
    "      else:\n",
    "        print('just right')"
   ]
  },
  {
   "cell_type": "code",
   "execution_count": null,
   "metadata": {},
   "outputs": [],
   "source": [
    "2.) Assign the value 7 to the variable guess_me and the value 1 to the variable start. Write a while\n",
    "loop that compares start with guess_me. Print too low if start is less than guess me. If start equals\n",
    "guess_me, print 'found it!'' and exit the loop. If start is greater than guess_me, print 'oops' and exit\n",
    "the loop. Increment start at the end of the loop.\n",
    "\n",
    "Ans:- guess_name = 7\n",
    "      start = 1\n",
    "      while True:\n",
    "        if start < guess_name:\n",
    "            print('too low')\n",
    "        elif start == guess_name:\n",
    "            print('found it!')\n",
    "            break\n",
    "        else:\n",
    "            print('oops')\n",
    "        start = start + 1"
   ]
  },
  {
   "cell_type": "code",
   "execution_count": null,
   "metadata": {},
   "outputs": [],
   "source": [
    "3.) Print the following values of the list [3, 2, 1, 0] using a for loop.\n",
    "\n",
    "Ans:- for i in [3,2,1,0]:\n",
    "        print(i)"
   ]
  },
  {
   "cell_type": "code",
   "execution_count": null,
   "metadata": {},
   "outputs": [],
   "source": [
    "4.) Use a list comprehension to make a list of the even numbers in range(10)\n",
    "\n",
    "Ans:-[i for i in range(10) if i%2 == 0] this will print the list of even numbers."
   ]
  },
  {
   "cell_type": "code",
   "execution_count": null,
   "metadata": {},
   "outputs": [],
   "source": [
    "5.) Use a dictionary comprehension to create the dictionary squares. Use range(10) to return the\n",
    "keys, and use the square of each key as its value.\n",
    "\n",
    "Ans:- { i:i**2 for i in range(10) } "
   ]
  },
  {
   "cell_type": "code",
   "execution_count": null,
   "metadata": {},
   "outputs": [],
   "source": [
    "6.) Construct the set odd from the odd numbers in the range using a set comprehension (10).\n",
    "\n",
    "Ans:- {i for i in range(10) if i%2 == 1}"
   ]
  },
  {
   "cell_type": "code",
   "execution_count": null,
   "metadata": {},
   "outputs": [],
   "source": [
    "7.) Use a generator comprehension to return the string 'Got' and a number for the numbers in\n",
    "range(10). Iterate through this by using a for loop.\n",
    "\n",
    "Ans:- string = 'Got'   \n",
    "      s = iter(string)   ##creating iterator of the sting\n",
    "      next(s)      # this is used to generator each character of generator\n",
    "    \n",
    "      n = (i for i in range(10) if i%2==0) # this is generator comprehension yielding numbers\n",
    "      for i in n:      # this is looping for generator\n",
    "        print(n)\n"
   ]
  },
  {
   "cell_type": "code",
   "execution_count": null,
   "metadata": {},
   "outputs": [],
   "source": [
    "8.) Define a function called good that returns the list ['Harry', 'Ron', 'Hermione'].\n",
    "\n",
    "Ans:- def good():\n",
    "        return ['Harry', 'Ron', 'Hermione']"
   ]
  },
  {
   "cell_type": "code",
   "execution_count": null,
   "metadata": {},
   "outputs": [],
   "source": [
    "9.) Define a generator function called get_odds that returns the odd numbers from range(10). Use a\n",
    "for loop to find and print the third value returned.\n",
    "\n",
    "Ans:-  def get_odds(num):    # this is generator function\n",
    "        for i in range(num):\n",
    "            if i%2 == 1:\n",
    "                yield i\n",
    "        s = list(get_odds(10))   # callling generator function to create list\n",
    "        print(s[2])    # printing third value"
   ]
  },
  {
   "cell_type": "code",
   "execution_count": null,
   "metadata": {},
   "outputs": [],
   "source": [
    "10.) Define an exception called OopsException. Raise this exception to see what happens. Then write\n",
    "the code to catch this exception and print 'Caught an oops'.\n",
    "\n",
    "Ans:- class OopsException(Exception):  # creating OopsException class\n",
    "            pass\n",
    "      ## raising an exception\n",
    "      raise OopsException('Caught an Oops')\n"
   ]
  },
  {
   "cell_type": "code",
   "execution_count": null,
   "metadata": {},
   "outputs": [],
   "source": [
    "11.) Use zip() to make a dictionary called movies that pairs these lists: titles = ['Creature of Habit',\n",
    "Crewel Fate'] and plots = ['A nun turns into a monster', 'A haunted yarn shop'].\n",
    " \n",
    "Ans:- s = dict(zip(['Creature of Habit','Crewel Fate'],['A nun turns into a monster','A haunted yarn shop']))  \n",
    "      print(s)  # this will print dictionary"
   ]
  }
 ],
 "metadata": {
  "kernelspec": {
   "display_name": "Python 3",
   "language": "python",
   "name": "python3"
  },
  "language_info": {
   "codemirror_mode": {
    "name": "ipython",
    "version": 3
   },
   "file_extension": ".py",
   "mimetype": "text/x-python",
   "name": "python",
   "nbconvert_exporter": "python",
   "pygments_lexer": "ipython3",
   "version": "3.8.5"
  }
 },
 "nbformat": 4,
 "nbformat_minor": 4
}
