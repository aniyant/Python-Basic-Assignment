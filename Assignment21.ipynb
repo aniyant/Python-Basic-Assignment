{
 "cells": [
  {
   "cell_type": "markdown",
   "metadata": {},
   "source": [
    "1.) Add the current date to the text file today.txt as a string."
   ]
  },
  {
   "cell_type": "code",
   "execution_count": 1,
   "metadata": {},
   "outputs": [],
   "source": [
    "from datetime import date,datetime\n",
    "\n",
    "d = date.today()\n",
    "\n",
    "with open(\"today.txt\",'w') as f:\n",
    "    f.write(d.isoformat())"
   ]
  },
  {
   "cell_type": "markdown",
   "metadata": {},
   "source": [
    "2.) Read the text file today.txt into the today_string"
   ]
  },
  {
   "cell_type": "code",
   "execution_count": 2,
   "metadata": {},
   "outputs": [
    {
     "data": {
      "text/plain": [
       "'2022-03-16'"
      ]
     },
     "execution_count": 2,
     "metadata": {},
     "output_type": "execute_result"
    }
   ],
   "source": [
    "with open(\"today.txt\",\"r\") as f:\n",
    "   today_string = f.read()\n",
    "print(today_string)"
   ]
  },
  {
   "cell_type": "markdown",
   "metadata": {},
   "source": [
    "3.) Parse the date from today_string."
   ]
  },
  {
   "cell_type": "code",
   "execution_count": 3,
   "metadata": {},
   "outputs": [
    {
     "name": "stdout",
     "output_type": "stream",
     "text": [
      "16-03-2022\n"
     ]
    }
   ],
   "source": [
    "today_string = datetime.strptime(today_string,'%Y-%m-%d').strftime('%d-%m-%Y')\n",
    "print(today_string)"
   ]
  },
  {
   "cell_type": "markdown",
   "metadata": {},
   "source": [
    "4.) List the files in your current directory."
   ]
  },
  {
   "cell_type": "code",
   "execution_count": 4,
   "metadata": {},
   "outputs": [
    {
     "name": "stdout",
     "output_type": "stream",
     "text": [
      "['.ipynb_checkpoints', 'Assignment10.ipynb', 'Assignment11.ipynb', 'Assignment12.ipynb', 'Assignment13.ipynb', 'Assignment14.ipynb', 'Assignment15.ipynb', 'Assignment16.ipynb', 'Assignment17.ipynb', 'Assignment18.ipynb', 'Assignment19.ipynb', 'Assignment20.ipynb', 'Assignment21.ipynb', 'Assignment_1.ipynb', 'Assignment_2.ipynb', 'Assignment_3.ipynb', 'Assignment_4.ipynb', 'Assignment_5.ipynb', 'Assignment_6.ipynb', 'Assignment_7.ipynb', 'Assignment_8.ipynb', 'Assignment_9.ipynb', 'book.db', 'books.csv', 'books.db', 'test.txt', 'today.txt']\n"
     ]
    }
   ],
   "source": [
    "import os\n",
    "print(os.listdir())"
   ]
  },
  {
   "cell_type": "markdown",
   "metadata": {},
   "source": [
    "5.) Create a list of all of the files in your parent directory (minimum five files should be available)."
   ]
  },
  {
   "cell_type": "code",
   "execution_count": 5,
   "metadata": {},
   "outputs": [
    {
     "name": "stdout",
     "output_type": "stream",
     "text": [
      "['.ipynb_checkpoints', 'Assignment10.ipynb', 'Assignment11.ipynb', 'Assignment12.ipynb', 'Assignment13.ipynb', 'Assignment14.ipynb', 'Assignment15.ipynb', 'Assignment16.ipynb', 'Assignment17.ipynb', 'Assignment18.ipynb', 'Assignment19.ipynb', 'Assignment20.ipynb', 'Assignment21.ipynb', 'Assignment_1.ipynb', 'Assignment_2.ipynb', 'Assignment_3.ipynb', 'Assignment_4.ipynb', 'Assignment_5.ipynb', 'Assignment_6.ipynb', 'Assignment_7.ipynb', 'Assignment_8.ipynb', 'Assignment_9.ipynb', 'book.db', 'books.csv', 'books.db', 'test.txt', 'today.txt']\n"
     ]
    }
   ],
   "source": [
    "listOfFiles = os.listdir()\n",
    "print(listOfFiles)"
   ]
  },
  {
   "cell_type": "markdown",
   "metadata": {},
   "source": [
    "6.) Use multiprocessing to create three separate processes. Make each one wait a random number of\n",
    "seconds between one and five, print the current time, and then exit."
   ]
  },
  {
   "cell_type": "code",
   "execution_count": null,
   "metadata": {},
   "outputs": [],
   "source": [
    "import multiprocessing as multi   # importing the multiprocessing modules\n",
    "from datetime import date   \n",
    "import random                   # random module to generate random number\n",
    "\n",
    "# Three functions are as :-\n",
    "def process1():\n",
    "    print('process1 time : ',date.ctime())\n",
    "\n",
    "def process2():\n",
    "    print('process2 time :',date.ctime())\n",
    "    \n",
    "def process3():\n",
    "    print('process3 time :',date.ctime())\n",
    "\n",
    "if __name__ == \"__main__\":\n",
    "    p1 = multi.Process(target=process1)\n",
    "    p2 = multi.Process(target=process2)\n",
    "    p3 = multi.Process(target=process3)\n",
    "    \n",
    "    # starting the process\n",
    "    p1.start()\n",
    "    p2.start()\n",
    "    p3.start()\n",
    "\n",
    "    p1.join(timeout = random.randint(0,5))\n",
    "    p2.join(timeout = random.randint(0,5 ))\n",
    "    p3.join(timeout = random.randint(0,5))\n"
   ]
  },
  {
   "cell_type": "markdown",
   "metadata": {},
   "source": [
    "7.) Create a date object of your day of birth."
   ]
  },
  {
   "cell_type": "code",
   "execution_count": 7,
   "metadata": {},
   "outputs": [
    {
     "name": "stdout",
     "output_type": "stream",
     "text": [
      "1996-03-27\n"
     ]
    }
   ],
   "source": [
    "from datetime import date\n",
    "my_birthdate = date(1996,3,27)\n",
    "print(my_birthdate)"
   ]
  },
  {
   "cell_type": "markdown",
   "metadata": {},
   "source": [
    "9.) What day of the week was your day of birth?"
   ]
  },
  {
   "cell_type": "code",
   "execution_count": 8,
   "metadata": {},
   "outputs": [
    {
     "data": {
      "text/plain": [
       "2"
      ]
     },
     "execution_count": 8,
     "metadata": {},
     "output_type": "execute_result"
    }
   ],
   "source": [
    "my_birthdate.weekday()"
   ]
  },
  {
   "cell_type": "markdown",
   "metadata": {},
   "source": [
    "10.) When will you be (or when were you) 10,000 days old?"
   ]
  },
  {
   "cell_type": "code",
   "execution_count": 9,
   "metadata": {},
   "outputs": [
    {
     "name": "stdout",
     "output_type": "stream",
     "text": [
      "1998-12-22\n"
     ]
    }
   ],
   "source": [
    "import datetime\n",
    "\n",
    "start_date = datetime.datetime(year=1996, month=3, day=27)\n",
    "\n",
    "end_date = start_date + datetime.timedelta(days=1000)\n",
    "\n",
    "print(end_date.date())"
   ]
  },
  {
   "cell_type": "code",
   "execution_count": null,
   "metadata": {},
   "outputs": [],
   "source": []
  }
 ],
 "metadata": {
  "kernelspec": {
   "display_name": "Python 3",
   "language": "python",
   "name": "python3"
  },
  "language_info": {
   "codemirror_mode": {
    "name": "ipython",
    "version": 3
   },
   "file_extension": ".py",
   "mimetype": "text/x-python",
   "name": "python",
   "nbconvert_exporter": "python",
   "pygments_lexer": "ipython3",
   "version": "3.8.5"
  }
 },
 "nbformat": 4,
 "nbformat_minor": 4
}
