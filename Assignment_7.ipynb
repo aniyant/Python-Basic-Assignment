{
 "cells": [
  {
   "cell_type": "markdown",
   "metadata": {},
   "source": [
    "#### Assignment 7 of the python basic assignment"
   ]
  },
  {
   "cell_type": "markdown",
   "metadata": {},
   "source": [
    "1.) What is the name of the feature responsible for generating Regex objects?\n",
    "\n",
    "Ans:- re.compile(r\"regular expression\") function generates regex objects."
   ]
  },
  {
   "cell_type": "code",
   "execution_count": null,
   "metadata": {},
   "outputs": [],
   "source": [
    "2.) Why do raw strings often appear in Regex objects?\n",
    "\n",
    "Ans:- Raw strings are used so that backslash do not have to be escaped in regular expression."
   ]
  },
  {
   "cell_type": "code",
   "execution_count": null,
   "metadata": {},
   "outputs": [],
   "source": [
    "3.) What is the return value of the search() method ?\n",
    "\n",
    "Ans:- search() method return the match object of the first occurrence of the match in the string.\n",
    "      if match doesn't happen then it return None as value."
   ]
  },
  {
   "cell_type": "code",
   "execution_count": null,
   "metadata": {},
   "outputs": [],
   "source": [
    "4.) From a match item, how do you get the actual strings that match the pattern?\n",
    "\n",
    "Ans:- match item is bacically an object so to extract data we use group() method which will return the matched characters."
   ]
  },
  {
   "cell_type": "code",
   "execution_count": null,
   "metadata": {},
   "outputs": [],
   "source": [
    "5.) In the regex which created from the r'(\\d\\d\\d)-(\\d\\d\\d-\\d\\d\\d\\d)', what does group zero cover?\n",
    "Group 2? Group 1?\n",
    "\n",
    "Ans;- Group 0 is the entire match, group 1 covers the first set of parentheses, and group 2 covers the second set of parenthese"
   ]
  },
  {
   "cell_type": "code",
   "execution_count": null,
   "metadata": {},
   "outputs": [],
   "source": [
    "6.) In standard expression syntax, parentheses and intervals have distinct meanings. How can you tell\n",
    "a regex that you want it to fit real parentheses and periods?\n",
    "\n",
    "Ans:- Periods and parentheses can be escaped with a backslash like this: \\., \\(, and \\)."
   ]
  },
  {
   "cell_type": "code",
   "execution_count": null,
   "metadata": {},
   "outputs": [],
   "source": [
    "7.) The findall() method returns a string list or a list of string tuples. What causes it to return one of\n",
    "the two options?\n",
    "\n",
    "Ans:- if the regex has no groups, a list of strings is returned. If the regex has groups, a list of tuples of strings is returned."
   ]
  },
  {
   "cell_type": "code",
   "execution_count": null,
   "metadata": {},
   "outputs": [],
   "source": [
    "8.) In standard expressions, what does the | character mean?\n",
    "\n",
    "Ans:- The | character signifies matching \"either, or\" between two groups.\n",
    "       Ex- import re\n",
    "           reg = re.match(\"(\\d)|(.)\",\"2fds\")\n",
    "           print(reg.group())"
   ]
  },
  {
   "cell_type": "code",
   "execution_count": null,
   "metadata": {},
   "outputs": [],
   "source": [
    "9.) In regular expressions, what does the character stand for?\n",
    "\n",
    "Ans:- In regular expression, the character stand for matching the single character in the given string."
   ]
  },
  {
   "cell_type": "code",
   "execution_count": null,
   "metadata": {},
   "outputs": [],
   "source": [
    "10.) In regular expressions, what is the difference between the + and * characters?\n",
    "\n",
    "Ans:- The + matches one or more. The * matches zero or more."
   ]
  },
  {
   "cell_type": "code",
   "execution_count": null,
   "metadata": {},
   "outputs": [],
   "source": [
    "11.) What is the difference between {4} and {4,5} in regular expression?\n",
    "\n",
    "Ans:- {4} means exactly four matching character sequentially and {4,5} means four or 5 matching characters sequentially.\n",
    "    "
   ]
  },
  {
   "cell_type": "code",
   "execution_count": null,
   "metadata": {},
   "outputs": [],
   "source": [
    "12.) What do you mean by the \\d, \\w, and \\s shorthand character classes signify in regular\n",
    "expressions?\n",
    "\n",
    "Ans:- \\d signify digit characters [0-9]\n",
    "      \\w signify alphanumeric characters [a-zA-Z0-9]\n",
    "      \\s signify whitespace characters [\\n\\t\\r\\v\\b\\f]\n",
    "    "
   ]
  },
  {
   "cell_type": "code",
   "execution_count": null,
   "metadata": {},
   "outputs": [],
   "source": [
    "13.) What do means by \\D, \\W, and \\S shorthand character classes signify in regular expressions?\n",
    "\n",
    "Ans;- \\D signify non-digit characters.\n",
    "      \\W signify non-alphanumeric characters.\n",
    "      \\S signify non-whitespace characters.\n",
    "        "
   ]
  },
  {
   "cell_type": "code",
   "execution_count": null,
   "metadata": {},
   "outputs": [],
   "source": [
    "14.) What is the difference between .*? and .*?\n",
    "\n",
    "Ans:- .*? as we break this regular expression, . this will match any charachter any character except \\n and \n",
    "       * signify 0 or more times and ? signify once or none.Hence, match will return empty string.\n",
    "       .* this regular expression will match every character except newline \\n."
   ]
  },
  {
   "cell_type": "code",
   "execution_count": null,
   "metadata": {},
   "outputs": [],
   "source": [
    "15.) What is the syntax for matching both numbers and lowercase letters with a character class?\n",
    "\n",
    "Ans:- We can use \\w shorthand or we can use [a-z0-9]."
   ]
  },
  {
   "cell_type": "code",
   "execution_count": null,
   "metadata": {},
   "outputs": [],
   "source": [
    "16.) What is the procedure for making a normal expression in regax case insensitive?\n",
    "\n",
    "Ans;- We can use re.IGNORECASE ex:-\n",
    "      reg = re.search(r\"sunny\",'kumar SUNNY sunny',re.IGNORECASE)\n",
    "      reg.group()"
   ]
  },
  {
   "cell_type": "code",
   "execution_count": null,
   "metadata": {},
   "outputs": [],
   "source": [
    "17.) What does the . character normally match? What does it match if re.DOTALL is passed as 2nd\n",
    "argument in re.compile()?\n",
    "\n",
    "Ans;- re.DOTALL is the flag related to multiline text so dot character . match everything except a newline character. This flag re.DOTALL\n",
    "      allows dot to match even newlines as well.Ex-\n",
    "        reg = re.compile(\".+\",re.DOTALL)\n",
    "        reg = reg.search(\"sunny\\nkumar\")\n",
    "        print(reg.group())\n",
    "        "
   ]
  },
  {
   "cell_type": "code",
   "execution_count": null,
   "metadata": {},
   "outputs": [],
   "source": [
    "18.) If numReg = re.compile(r\"\\d+\"), what will numRegex.sub(\"X\", '11 drummers, 10 pipers, five rings, 4hen\") return?\n",
    "\n",
    "Ans:- 'X drummers, X pipers, five rings, Xhen' this string will return by the above program.\n",
    "                                                            "
   ]
  },
  {
   "cell_type": "code",
   "execution_count": null,
   "metadata": {},
   "outputs": [],
   "source": [
    "19.) What does passing re.VERBOSE as the 2nd argument to re.compile() allow to do?\n",
    "\n",
    "Ans:- re.VERBOSE allows us to write regular expressions that look nice\n",
    "      and are more readable by allowing you to visually separate logical\n",
    "      sections of the patten and add comments.Ex-\n",
    "      \n",
    "      reg = re.search(r\"\"\"(\\w+)\n",
    "                    |(\\d+)\"\"\",\" 34 sunny kumar \", re.VERBOSE)\n",
    "      reg.group()\n",
    "        "
   ]
  },
  {
   "cell_type": "code",
   "execution_count": null,
   "metadata": {},
   "outputs": [],
   "source": [
    "20.) How would you write a regex that match a number with comma for every three digits? It must\n",
    "     match the given following:\n",
    "     '42'\n",
    "     '1,234'\n",
    "     '6,3668,745'\n",
    "    but not the following:\n",
    "     '12,34,567' (which has only two digits between the commas)\n",
    "     '1234' (which lacks commas)\n",
    "\n",
    "Ans:- The whole program is given below:-\n",
    "      import re\n",
    "      regex= re.compile(r'(\\d|\\d{3})(?=,\\d{3})')\n",
    "      reg = regex.match('123,4522,22')\n",
    "      print(reg.group())    "
   ]
  },
  {
   "cell_type": "code",
   "execution_count": null,
   "metadata": {},
   "outputs": [],
   "source": [
    "import re\n",
    "regex= re.compile(r'(\\d|\\d{3})(?=,\\d{3})')\n",
    "reg = regex.match('123,4522,22')\n",
    "print(reg.group())"
   ]
  },
  {
   "cell_type": "code",
   "execution_count": null,
   "metadata": {},
   "outputs": [],
   "source": [
    "21.) 21. How would you write a regex that matches the full name of someone whose last name is\n",
    "Watanabe? You can assume that the first name that comes before it will always be one word that\n",
    "begins with a capital letter. The regex must match the following:\n",
    "'Haruto Watanabe'\n",
    "'Alice Watanabe'\n",
    "'RoboCop Watanabe'\n",
    "but not the following:\n",
    "'haruto Watanabe' (where the first name is not capitalized)\n",
    "'Mr. Watanabe' (where the preceding word has a nonletter character)\n",
    "'Watanabe' (which has no first name)\n",
    "'Haruto watanabe' (where Watanabe is not capitalized)\n",
    "\n",
    "Ans:- regex = re.compile(r'[A-Z][a-zA-Z]+(?=\\sWatnabe)') this regex will \n",
    "      match with all the above conditions.Ex:-\n",
    "       reg = re.compile(r'[A-Z][a-zA-Z]+(?=\\sWatnabe))\n",
    "       string = 'Haruto Watnabe Alice Watnabe RoboCop Watnabe haruto Watnabe Mr. Watnabe Haruto watnabe Terry Watnabe'\n",
    "       reg = reg.findall(string)\n",
    "       print(reg)"
   ]
  },
  {
   "cell_type": "code",
   "execution_count": null,
   "metadata": {},
   "outputs": [],
   "source": [
    "22. How would you write a regex that matches a sentence where the first word is either Alice, Bob,\n",
    "or Carol; the second word is either eats, pets, or throws; the third word is apples, cats, or baseballs;\n",
    "and the sentence ends with a period? This regex should be case-insensitive. It must match the\n",
    "following:\n",
    "'Alice eats apples.'\n",
    "'Bob pets cats.'\n",
    "'Carol throws baseballs.'\n",
    "'Alice throws Apples.'\n",
    "'BOB EATS CATS.'\n",
    "but not the following:\n",
    "'RoboCop eats apples.'\n",
    "'ALICE THROWS FOOTBALLS.'\n",
    "'Carol eats 7 cats.'\n",
    "\n",
    "Ans:- regex = re.compile('(Alice|Bob|Carol)\\s(eats|pets|throws)\\s(apples.|baseballs.|cats.)',re.IGNORECASE) will\n",
    "      match with above give conditions.Ex;-\n",
    "        string = \"AlICe eats apples. Bob pgets cats. Carol throws baseballs. Alice throws Apples. RoboCop eats apples. ALICE THROWS FOOTBALLS. Carol eats 7 cats.\"\n",
    "        reg = re.compile('(Alice|Bob|Carol)\\s(eats|pets|throws)\\s(apples.|baseballs.|cats.)',re.IGNORECASE)\n",
    "        reg = reg.search(string)\n",
    "        print(reg.group())"
   ]
  },
  {
   "cell_type": "code",
   "execution_count": null,
   "metadata": {},
   "outputs": [],
   "source": []
  },
  {
   "cell_type": "code",
   "execution_count": null,
   "metadata": {},
   "outputs": [],
   "source": []
  }
 ],
 "metadata": {
  "kernelspec": {
   "display_name": "Python 3",
   "language": "python",
   "name": "python3"
  },
  "language_info": {
   "codemirror_mode": {
    "name": "ipython",
    "version": 3
   },
   "file_extension": ".py",
   "mimetype": "text/x-python",
   "name": "python",
   "nbconvert_exporter": "python",
   "pygments_lexer": "ipython3",
   "version": "3.8.5"
  }
 },
 "nbformat": 4,
 "nbformat_minor": 4
}
