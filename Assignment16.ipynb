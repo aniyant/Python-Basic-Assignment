{
 "cells": [
  {
   "cell_type": "code",
   "execution_count": null,
   "metadata": {},
   "outputs": [],
   "source": [
    "1.) Create a list called years_list, starting with the year of your birth, and each year thereafter until\n",
    "the year of your fifth birthday. For example, if you were born in 1980. the list would be years_list =\n",
    "[1980, 1981, 1982, 1983, 1984, 1985].\n",
    "\n",
    "Ans:- year_list = [1996,1997,1998,1999,2000]"
   ]
  },
  {
   "cell_type": "code",
   "execution_count": null,
   "metadata": {},
   "outputs": [],
   "source": [
    "2.) In which year in years_list was your third birthday? Remember, you were 0 years of age for your\n",
    "first year.\n",
    "\n",
    "Ans:- year_list[3] will fetch 1999 which is the year of third birthday."
   ]
  },
  {
   "cell_type": "code",
   "execution_count": null,
   "metadata": {},
   "outputs": [],
   "source": [
    "3.) In the years list, which year were you the oldest?\n",
    "\n",
    "Ans:- year_list[-1] will fetch 2000 which is the year of being oldest."
   ]
  },
  {
   "cell_type": "code",
   "execution_count": null,
   "metadata": {},
   "outputs": [],
   "source": [
    "4.) Make a list called things with these three strings as elements: 'mozzarella', 'cinderella',\n",
    "'salmonella'.\n",
    "\n",
    "Ans:- things = ['mozzarella','cindrella','salmonella']"
   ]
  },
  {
   "cell_type": "code",
   "execution_count": null,
   "metadata": {},
   "outputs": [],
   "source": [
    "5.) Capitalize the element in things that refers to a person and then print the list. Did it change the\n",
    "element in the list?\n",
    "\n",
    "Ans:- for i in things:    # this will loop with every element in things\n",
    "        i = i.capitalize()  # capitalizing the every element\n",
    "        print(i)           # printing each element\n",
    "      print(things)       # printing things list which is not changed"
   ]
  },
  {
   "cell_type": "code",
   "execution_count": null,
   "metadata": {},
   "outputs": [],
   "source": [
    "6.) Make a surprise list with the elements 'Groucho', 'Chico', and 'Harpo'.\n",
    "\n",
    "Ans:- surprise = ['Groucho','Chico','Harpo']   "
   ]
  },
  {
   "cell_type": "code",
   "execution_count": null,
   "metadata": {},
   "outputs": [],
   "source": [
    "7.) Lowercase the last element of the surprise list, reverse it, and then capitalize it.\n",
    "\n",
    "Ans:- last_el = surprise[-1]   # last element\n",
    "      last_el_lower = last_el.lower()  # lowercasing the last element\n",
    "      last_el_in_list = list(last_el_lower)  # passing string to list\n",
    "      last_el_in_list.reverse() \n",
    "      last_el_reverse = ''.join(last_el_in_list)  #after reversing convvertin to string\n",
    "      last_el_reverse_capitalize = last_el_reverse.capitalize()  # capitalizing the element\n",
    "      surprise[-1] = last_el_reverse_capitalize     # saving the element into surprise last element place\n",
    "    \n",
    "      print(surprise)  # this print the list"
   ]
  },
  {
   "cell_type": "code",
   "execution_count": null,
   "metadata": {},
   "outputs": [],
   "source": [
    "8.) Make an English-to-French dictionary called e2f and print it. Here are your starter words: dog is\n",
    "chien, cat is chat, and walrus is morse.\n",
    "\n",
    "Ans:- e2f = {\n",
    "    'dog' : 'chien',\n",
    "    'cat' : 'chat',\n",
    "    'walrus' :'morse'\n",
    "}"
   ]
  },
  {
   "cell_type": "code",
   "execution_count": null,
   "metadata": {},
   "outputs": [],
   "source": [
    "9.) Write the French word for walrus in your three-word dictionary e2f.\n",
    "\n",
    "Ans:- e2f['walrus'] will fetch 'morse' whch is the french word."
   ]
  },
  {
   "cell_type": "code",
   "execution_count": null,
   "metadata": {},
   "outputs": [],
   "source": [
    "10.) Make a French-to-English dictionary called f2e from e2f. Use the items method.\n",
    "\n",
    "Ans:- f2e = {}   # creating empty dict\n",
    "      for k,v in e2f.items():   #looping\n",
    "        f2e[v] = k    # setting values\n",
    "      print(f2e)    # printing new dict"
   ]
  },
  {
   "cell_type": "code",
   "execution_count": null,
   "metadata": {},
   "outputs": [],
   "source": [
    "11.) Print the English version of the French word chien using f2e.\n",
    "\n",
    "Ans:- f2e['chien'] will produce 'dog' english version out of f2e\n",
    "    "
   ]
  },
  {
   "cell_type": "code",
   "execution_count": null,
   "metadata": {},
   "outputs": [],
   "source": [
    "12.) Make and print a set of English words from the keys in e2f.\n",
    "\n",
    "Ans:- for el in e2f.keys():  # this will loop \n",
    "        print(el)    # this will print elemnent"
   ]
  },
  {
   "cell_type": "code",
   "execution_count": null,
   "metadata": {},
   "outputs": [],
   "source": [
    "13.) Make a multilevel dictionary called life. Use these strings for the topmost keys: 'animals', 'plants',\n",
    "and 'other'. Make the 'animals' key refer to another dictionary with the keys 'cats', 'octopi', and\n",
    "'emus'. Make the 'cats' key refer to a list of strings with the values 'Henri', 'Grumpy', and 'Lucy'.\n",
    "Make all the other keys refer to empty dictionaries.\n",
    "\n",
    "Ans:- life =  {\n",
    "    'animals' : {\n",
    "        'cats' : ['henri','Crumpy','Lucy']\n",
    "        'octopi':{}\n",
    "        'emus': {}\n",
    "    },\n",
    "    'plants' :{},\n",
    "    'other' : {}\n",
    "}"
   ]
  },
  {
   "cell_type": "code",
   "execution_count": null,
   "metadata": {},
   "outputs": [],
   "source": [
    "14.) print the top-level keys of life.\n",
    "\n",
    "Ans:- life.keys() will print top level keys"
   ]
  },
  {
   "cell_type": "code",
   "execution_count": null,
   "metadata": {},
   "outputs": [],
   "source": [
    "15.) print the keys for life['animals'].\n",
    "\n",
    "Ans:- life['animals'].keys()"
   ]
  },
  {
   "cell_type": "code",
   "execution_count": null,
   "metadata": {},
   "outputs": [],
   "source": [
    "16.) print the values for life['animals']['cats']\n",
    "\n",
    "Ans:- life['animals']['cats'] will print the cats values."
   ]
  },
  {
   "cell_type": "code",
   "execution_count": null,
   "metadata": {},
   "outputs": [],
   "source": []
  }
 ],
 "metadata": {
  "kernelspec": {
   "display_name": "Python 3",
   "language": "python",
   "name": "python3"
  },
  "language_info": {
   "codemirror_mode": {
    "name": "ipython",
    "version": 3
   },
   "file_extension": ".py",
   "mimetype": "text/x-python",
   "name": "python",
   "nbconvert_exporter": "python",
   "pygments_lexer": "ipython3",
   "version": "3.8.5"
  }
 },
 "nbformat": 4,
 "nbformat_minor": 4
}
