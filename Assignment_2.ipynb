{
 "cells": [
  {
   "cell_type": "markdown",
   "metadata": {},
   "source": [
    "#### Assignment_2 of Python Basic Assignment"
   ]
  },
  {
   "cell_type": "markdown",
   "metadata": {},
   "source": [
    "1.) What are the two values of the Boolean data type? How do you write them?\n",
    "\n",
    "Ans:- Two values of the Boolean data type are True and False which also represent 1 and 0 respectively. We write them as True and False."
   ]
  },
  {
   "cell_type": "markdown",
   "metadata": {},
   "source": [
    "2.) What are the three different types of Boolean operators?\n",
    "\n",
    "Ans:- the Three boolean operators are AND, OR and NOT. These boolean operators are used to compare values and return output as either True or False."
   ]
  },
  {
   "cell_type": "markdown",
   "metadata": {},
   "source": [
    "3.) Make a list of each Boolean operator's truth tables(i.e. every possible combination of Boolean values for the operator and what it evaluate).\n",
    "\n",
    "Ans:- \n",
    "        Truth table of AND -\n",
    "          A       B      OUTPUT\n",
    "        True    True      True\n",
    "        True    False     False\n",
    "        False   True      False\n",
    "        False   False     False\n",
    "        \n",
    "      Truth table of OR -\n",
    "          A       B       OUTPUT\n",
    "        True     True      True\n",
    "        True     False     True\n",
    "        False    True      True\n",
    "        False    False     False\n",
    "        \n",
    "      Truth table of NOT-\n",
    "            A          OUTPUT\n",
    "          True          False\n",
    "          False         True"
   ]
  },
  {
   "cell_type": "markdown",
   "metadata": {},
   "source": [
    "4.) What are the values of the following expressions?\n",
    "    (5>4) and (3==5)\n",
    "    not(5>4)\n",
    "    (5>4) or (3==5)\n",
    "    not((5>4) or (3==5))\n",
    "    (True and True) and (True==False)\n",
    "    (not False) or (not True)\n",
    "    \n",
    "Ans:- (5>4) and (3==5) result will be False\n",
    "      not(5>4) result will be False\n",
    "      (5>4) or (3==5) result will be True\n",
    "      not((5>4) or (3==5)) result will be False\n",
    "      (True and True) and (True == False) result will be False\n",
    "      (not False) or (not True) result will be True"
   ]
  },
  {
   "cell_type": "markdown",
   "metadata": {},
   "source": [
    "5.) What are six comparison operators ?\n",
    "\n",
    "Ans:- The six comparison operators are as follow:-\n",
    "     i) equal to (==)\n",
    "     ii) not equal to (!=)\n",
    "     iii) greater than (>)\n",
    "     iv) greater than or equal to (>=)\n",
    "     v) less than (<)\n",
    "     vi) less than or equal to (<=)"
   ]
  },
  {
   "cell_type": "markdown",
   "metadata": {},
   "source": [
    "6.) How do you tell the difference between the equal to and assignment operators? Describe a condition and when you would use one.\n",
    "\n",
    "Ans:- The assignment operator(=) is used to assign data value to the variable whereas equal to (==) operator is used to check that the given two operands or value are equal or not.\n",
    "The assignment operator (=) doesn't return any value whereas equal to operator return either True if operands are equal or False if operands are unequal.\n",
    "\n",
    "The Assignment(=) is used when we have assign some value to variable. Ex- var = 5, lst = [3,5].\n",
    "The Equal to (==) is used when we have to check equality of two values in if-else condition or in some expression."
   ]
  },
  {
   "cell_type": "markdown",
   "metadata": {},
   "source": [
    "7.) Identify the three blocks in this code:\n",
    "spam = 0\n",
    "if spam == 10:\n",
    "print(\"eggs\")\n",
    "if spam > 5:\n",
    "print(\"bacon\")\n",
    "else:\n",
    "print(\"ham\")\n",
    "print(\"spam\")\n",
    "print(\"spam\")\n",
    "\n",
    "Ans:- The first block is:-\n",
    "        if spam == 10:\n",
    "            print(\"eggs\")\n",
    "            \n",
    "       The second block is:-\n",
    "         if spam > 5:\n",
    "            print(\"bacon\")\n",
    "        \n",
    "        The third block is:-\n",
    "            else:\n",
    "                print(\"ham\")\n",
    "                print(\"spam\")\n",
    "                print(\"spam\")\n",
    "            "
   ]
  },
  {
   "cell_type": "markdown",
   "metadata": {},
   "source": [
    "8.) Write code that prints Hello if 1 is stored in spam, prints Howdy if 2 is stored in spam, and prints Greetings! if anything else is stored in spam.\n",
    "\n",
    "Ans:- Code is as follow :-\n",
    "    try:\n",
    "        spam = input('enter value for spam = ')\n",
    "        if int(spam) == 1:\n",
    "            print(\"Hello\")\n",
    "        elif int(spam) == 2:\n",
    "            print(\"Howdy\")\n",
    "        else:\n",
    "            print(\"Greetings!\")\n",
    "    except:\n",
    "        print(\"Greetings!\")"
   ]
  },
  {
   "cell_type": "markdown",
   "metadata": {},
   "source": [
    "9.) If your programme is stuck in an endless loop, what keys you’ll press?\n",
    "\n",
    "Ans:- Ctrl + c is the key should be pressed to get out of the endless loop."
   ]
  },
  {
   "cell_type": "markdown",
   "metadata": {},
   "source": [
    "10.) How can you tell the difference between break and continue?\n",
    "\n",
    "Ans:- The break will break the execution of the loop and program will then start executing the statements outside the loop whereas continue will skip the current iteration of the loop and start the loop from next iteration."
   ]
  },
  {
   "cell_type": "markdown",
   "metadata": {},
   "source": [
    "11.) In a for loop, what is the difference between range(10), range(0, 10), and range(0, 10, 1)?\n",
    "\n",
    "Ans:- There is no difference between range(10),range(0,10) and range(0,10,1) as all three will produce number from 0 to 9 excluding 10."
   ]
  },
  {
   "cell_type": "markdown",
   "metadata": {},
   "source": [
    "12.) Write a short program that prints the numbers 1 to 10 using a for loop. Then write an equivalent\n",
    "program that prints the numbers 1 to 10 using a while loop.\n",
    "\n",
    "Ans:- Here is the program:-\n",
    "        for i in range(11):\n",
    "            print(i)\n",
    "        i=0\n",
    "        while i in range(11):\n",
    "            print(i)\n",
    "            i = i+1"
   ]
  },
  {
   "cell_type": "markdown",
   "metadata": {},
   "source": [
    "13. If you had a function named bacon() inside a module named spam, how would you call it after\n",
    "importing spam?\n",
    "\n",
    "Ans:- import spam # we will import spam module like this\n",
    "      spam.bacon() # we will call bacon function like this"
   ]
  },
  {
   "cell_type": "code",
   "execution_count": null,
   "metadata": {},
   "outputs": [],
   "source": []
  }
 ],
 "metadata": {
  "kernelspec": {
   "display_name": "Python 3",
   "language": "python",
   "name": "python3"
  },
  "language_info": {
   "codemirror_mode": {
    "name": "ipython",
    "version": 3
   },
   "file_extension": ".py",
   "mimetype": "text/x-python",
   "name": "python",
   "nbconvert_exporter": "python",
   "pygments_lexer": "ipython3",
   "version": "3.8.5"
  }
 },
 "nbformat": 4,
 "nbformat_minor": 4
}
