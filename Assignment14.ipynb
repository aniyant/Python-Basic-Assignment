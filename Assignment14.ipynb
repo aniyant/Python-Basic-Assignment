{
 "cells": [
  {
   "cell_type": "code",
   "execution_count": null,
   "metadata": {},
   "outputs": [],
   "source": [
    "1.) What does RGBA stand for?\n",
    "\n",
    "Ans:- RGBA stands for R-Red, G-Green, B-Blue and A-Alpha"
   ]
  },
  {
   "cell_type": "code",
   "execution_count": null,
   "metadata": {},
   "outputs": [],
   "source": [
    "2.) From the Pillow module, how do you get the RGBA value of any images?\n",
    "\n",
    "Ans:- img = Image.open('sample.jpg') # creating object of Image\n",
    "      img.getpixel((320,240))  this line we produce the rgba value in pixel of image on coordinates 320,240"
   ]
  },
  {
   "cell_type": "code",
   "execution_count": null,
   "metadata": {},
   "outputs": [],
   "source": [
    "3.) What is a box tuple, and how does it work?\n",
    "\n",
    "Ans:- Many pillow's functions and methods take a box tuple argument.\n",
    "      Box tuple argument is a tuple of four integer coordinates that represent a rectangule region in an image.\n",
    "      Left - the x- coordinate of the leftmost edge of the box.\n",
    "      Top - the y- coordinate of the top edge of the box.\n",
    "      Right - the x- coordinate of one pixel to the right of the rightmost edge of the box.This integer must be greater than the left integer.\n",
    "      Bottom - the y - coordinate of one pixel lower than the bottom edge of the box.This integer must be greater than the top integer."
   ]
  },
  {
   "cell_type": "code",
   "execution_count": null,
   "metadata": {},
   "outputs": [],
   "source": [
    "4.) Use your image and load in notebook then, How can you find out the width and height of an\n",
    "Image object?\n",
    "\n",
    "Ans:- The below code loads the image and prints height and width of the image:-\n",
    "        img = Image.open('c:\\\\users\\\\aniyant\\\\downloads\\\\sunny.jpg')\n",
    "        img.show()\n",
    "        print('height : ',img.height) # this line prints height\n",
    "        print('widht : ',img.width)    # this line prints width"
   ]
  },
  {
   "cell_type": "code",
   "execution_count": null,
   "metadata": {},
   "outputs": [],
   "source": [
    "5.) What method would you call to get Image object for a 100×100 image, excluding the lower-left\n",
    "quarter of it?\n",
    "\n",
    "Ans:- The below written program will done :-\n",
    "        from PIL import Image\n",
    "        import numpy as np\t\n",
    "\n",
    "        #creating new image object \n",
    "        img=Image.new('RGBA', (100, 100), 'purple')\n",
    "        img = img.convert('RGB')   # converting it to rgb mode color mode\n",
    "\n",
    "        # Extracting the image data &\n",
    "        # creating an numpy array out of it\n",
    "        img_arr = np.array(img)\n",
    "\n",
    "        # setting the left lower part of image to black to exclude it\n",
    "        img_arr[75 : 100, 0 : 25] = (0, 0, 0)\n",
    "\n",
    "        # Creating an image out of the previously modified array\n",
    "        img = Image.fromarray(img_arr)\n",
    "        img.show()\n"
   ]
  },
  {
   "cell_type": "code",
   "execution_count": null,
   "metadata": {},
   "outputs": [],
   "source": [
    "6.) After making changes to an Image object, how could you save it as an image file?\n",
    "\n",
    "Ans:- we can save the Image object using save() method of Image object."
   ]
  },
  {
   "cell_type": "code",
   "execution_count": null,
   "metadata": {},
   "outputs": [],
   "source": [
    "7.) What module contains Pillow’s shape-drawing code?\n",
    "\n",
    "Ans:- ImageDraw module contains the Pillow's shape-drawing methods."
   ]
  }
 ],
 "metadata": {
  "kernelspec": {
   "display_name": "Python 3",
   "language": "python",
   "name": "python3"
  },
  "language_info": {
   "codemirror_mode": {
    "name": "ipython",
    "version": 3
   },
   "file_extension": ".py",
   "mimetype": "text/x-python",
   "name": "python",
   "nbconvert_exporter": "python",
   "pygments_lexer": "ipython3",
   "version": "3.8.5"
  }
 },
 "nbformat": 4,
 "nbformat_minor": 4
}
