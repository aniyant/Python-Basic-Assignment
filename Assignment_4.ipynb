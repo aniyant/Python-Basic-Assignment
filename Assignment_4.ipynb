{
 "cells": [
  {
   "cell_type": "markdown",
   "metadata": {},
   "source": [
    "### Assigment 4 of Python Basic Assignment"
   ]
  },
  {
   "cell_type": "code",
   "execution_count": null,
   "metadata": {},
   "outputs": [],
   "source": [
    "1.) What exactly is [] ?\n",
    "\n",
    "Ans:- [] is a closed square bracket. \n",
    "      This [] is used to put inside a collection of data which is also called list in python programming language.\n",
    "      Ex- a = [5,9,'dslfj'] \n",
    "      This [] is also used to extract data called as slicing usind index or key from collection data which is based on index or key respectively.\n",
    "      Ex- lst[5] , if lst is a list variable it will output data at index position 5.\n",
    "      This [] is also used to extract character from string on the basis of index value.\n",
    "      Ex- name = \"sunny kumar\"\n",
    "          name[3:8], will output as ny ku "
   ]
  },
  {
   "cell_type": "code",
   "execution_count": 7,
   "metadata": {},
   "outputs": [
    {
     "ename": "SyntaxError",
     "evalue": "unmatched ')' (<ipython-input-7-42fc6e67d3f0>, line 1)",
     "output_type": "error",
     "traceback": [
      "\u001b[1;36m  File \u001b[1;32m\"<ipython-input-7-42fc6e67d3f0>\"\u001b[1;36m, line \u001b[1;32m1\u001b[0m\n\u001b[1;33m    2.) In a list of values stored in a variable called spam, how would you assign the value \"hello\" as the\u001b[0m\n\u001b[1;37m      ^\u001b[0m\n\u001b[1;31mSyntaxError\u001b[0m\u001b[1;31m:\u001b[0m unmatched ')'\n"
     ]
    }
   ],
   "source": [
    "2.) In a list of values stored in a variable called spam, how would you assign the value \"hello\" as the\n",
    "   third value? (Assume [2, 4, 6, 8, 10] are in spam.\n",
    "     \n",
    "Ans:- In the context of question, we can take spam = [[2,4,6,8,10], [\"a\",\"b\", \"c\", \"d\"], [\"a\",\"b\", \"c\", \"d\"], [\"a\",\"b\", \"c\", \"d\"]] as \n",
    "      the variable.\n",
    "      So, third value of the list is going to be in the place of 2nd index as index position starts from zero.\n",
    "      Thus, to assign \"hello \" as the third value we will use statement spam[2] = \"hello\""
   ]
  },
  {
   "cell_type": "code",
   "execution_count": null,
   "metadata": {},
   "outputs": [],
   "source": [
    "Let's pretend the spam includes the list [\"a\",\"b\", \"c\", \"d\"] for the next three queries. \n",
    "3.) What is the value of spam[int(int(\"3\"*2)/11)] ?\n",
    "\n",
    "Ans:- ['a', 'b', 'c', 'd'] will be output if we run spam[int(int(\"3\"*2)/11)]."
   ]
  },
  {
   "cell_type": "code",
   "execution_count": 10,
   "metadata": {},
   "outputs": [
    {
     "ename": "SyntaxError",
     "evalue": "unmatched ')' (<ipython-input-10-d1f13505d8ef>, line 1)",
     "output_type": "error",
     "traceback": [
      "\u001b[1;36m  File \u001b[1;32m\"<ipython-input-10-d1f13505d8ef>\"\u001b[1;36m, line \u001b[1;32m1\u001b[0m\n\u001b[1;33m    4.) What is the value of spam[-1]?\u001b[0m\n\u001b[1;37m      ^\u001b[0m\n\u001b[1;31mSyntaxError\u001b[0m\u001b[1;31m:\u001b[0m unmatched ')'\n"
     ]
    }
   ],
   "source": [
    "4.) What is the value of spam[-1]?\n",
    "\n",
    "Ans:- ['a', 'b', 'c', 'd'] will be output of spam[-1]."
   ]
  },
  {
   "cell_type": "code",
   "execution_count": 9,
   "metadata": {},
   "outputs": [
    {
     "data": {
      "text/plain": [
       "['a', 'b', 'c', 'd']"
      ]
     },
     "execution_count": 9,
     "metadata": {},
     "output_type": "execute_result"
    }
   ],
   "source": [
    "5.) What is the value of spam[:2]?\n",
    "\n",
    "Ans:- [[2, 4, 6, 8, 10], ['a', 'b', 'c', 'd']] will be output of spam[:2]."
   ]
  },
  {
   "cell_type": "code",
   "execution_count": 11,
   "metadata": {},
   "outputs": [
    {
     "data": {
      "text/plain": [
       "[[2, 4, 6, 8, 10], ['a', 'b', 'c', 'd']]"
      ]
     },
     "execution_count": 11,
     "metadata": {},
     "output_type": "execute_result"
    }
   ],
   "source": [
    "Let's pretend bacon has the list [3.14,'cat', 11,'cat', True] for the next three questions.\n",
    "6.) What is the value of bacon.index('cat')?\n",
    "\n",
    "Ans:- The output is 1 as index method will fetch index position of \"cat\"."
   ]
  },
  {
   "cell_type": "code",
   "execution_count": 12,
   "metadata": {},
   "outputs": [
    {
     "data": {
      "text/plain": [
       "1"
      ]
     },
     "execution_count": 12,
     "metadata": {},
     "output_type": "execute_result"
    }
   ],
   "source": [
    "7.) How does bacon.append(99) change the look of the list value in bacon?\n",
    "\n",
    "Ans:- bacon.append(99) statement will append the data 99 at the last position of the list bacon which will look as \n",
    "      [3.14,'cat', 11,'cat', True,99]"
   ]
  },
  {
   "cell_type": "code",
   "execution_count": 15,
   "metadata": {},
   "outputs": [
    {
     "data": {
      "text/plain": [
       "[3.14, 'cat', 11, 'cat', True, 99]"
      ]
     },
     "execution_count": 15,
     "metadata": {},
     "output_type": "execute_result"
    }
   ],
   "source": [
    "8.) How does bacon.remove('cat') change the look of the list in bacon?\n",
    "\n",
    "Ans:- bacon.remove('cat') will remove the 'cat' from bacon and bacon list will be [3.14, 11, True, 99]. "
   ]
  },
  {
   "cell_type": "code",
   "execution_count": 23,
   "metadata": {},
   "outputs": [
    {
     "ename": "SyntaxError",
     "evalue": "invalid syntax (<ipython-input-23-f5ff7924ef5c>, line 3)",
     "output_type": "error",
     "traceback": [
      "\u001b[1;36m  File \u001b[1;32m\"<ipython-input-23-f5ff7924ef5c>\"\u001b[1;36m, line \u001b[1;32m3\u001b[0m\n\u001b[1;33m    Ans:- list concatenation is + and list replication is * operators are supported by sequence data types both mutable (list) and immutable(string,tuple).\u001b[0m\n\u001b[1;37m               ^\u001b[0m\n\u001b[1;31mSyntaxError\u001b[0m\u001b[1;31m:\u001b[0m invalid syntax\n"
     ]
    }
   ],
   "source": [
    "9.) What are the list concatenation and list replication operators?\n",
    "\n",
    "Ans:- list concatenation is + and list replication is * operators are supported by sequence data types both mutable (list) and immutable(string,tuple). "
   ]
  },
  {
   "cell_type": "code",
   "execution_count": null,
   "metadata": {},
   "outputs": [],
   "source": [
    "10.) What is difference between the list methods append() and insert()?\n",
    "\n",
    "Ans:- list method append() will append the element at the last position of the list whereas\n",
    "      insert() will insert the element at the specified index of the list.\n",
    "      append() take one argument which element which is to be added whereas insert() will take two \n",
    "      arguments first is index position at which we want to add element and second argument will be the element."
   ]
  },
  {
   "cell_type": "code",
   "execution_count": 24,
   "metadata": {},
   "outputs": [],
   "source": [
    "11.) What are the two methods for removing items from a list?\n",
    "\n",
    "Ans:- pop() and remove() are the two methods to remove items from a list.\n",
    "      list.pop() will remove last element of the list.\n",
    "      list.pop(4) will remove 4th index position element.\n",
    "      list.remove(element) will remove the first occurrence of the element from the list."
   ]
  },
  {
   "cell_type": "code",
   "execution_count": 31,
   "metadata": {},
   "outputs": [
    {
     "name": "stdout",
     "output_type": "stream",
     "text": [
      "None\n"
     ]
    }
   ],
   "source": [
    "12.) Describe how list values and string values are identical?\n",
    "\n",
    "Ans:- list values and string values are identical in many aspects which given as below:-\n",
    "      i. list values are indexed from 0 which is same as string.\n",
    "      ii. list values can extracted in as list[index], string values are also extracted in same way.\n",
    "      iii. slicing operation of list and string are identical.\n",
    "      iv. concatenatin operator (+) works same in both list and string.\n",
    "      vi. replication operator (*) works same in both list and string."
   ]
  },
  {
   "cell_type": "code",
   "execution_count": 44,
   "metadata": {},
   "outputs": [
    {
     "data": {
      "text/plain": [
       "23"
      ]
     },
     "execution_count": 44,
     "metadata": {},
     "output_type": "execute_result"
    }
   ],
   "source": [
    "13.) What's the difference between tuples and lists?\n",
    "\n",
    "Ans:- Tuples values are stored inside parentheses () whereas\n",
    "      list values are stored inside square brackets [].\n",
    "      Tuples values are immutable whereas list values are mutable."
   ]
  },
  {
   "cell_type": "code",
   "execution_count": 42,
   "metadata": {},
   "outputs": [],
   "source": [
    "14.) How do you type a tuple value that only contains the integer 42?\n",
    "\n",
    "Ans:- To create a tuple value that only contains the integer 42, we have to add comma(,) after the 42.\n",
    "      So, comma(,) will let the interpreter distinguish that this is tuple.Ex- tup = (42,)"
   ]
  },
  {
   "cell_type": "code",
   "execution_count": 60,
   "metadata": {},
   "outputs": [
    {
     "data": {
      "text/plain": [
       "(3,)"
      ]
     },
     "execution_count": 60,
     "metadata": {},
     "output_type": "execute_result"
    }
   ],
   "source": [
    "15.) How do you get a list value's tuple form? How do you get a tuple value's list form?\n",
    "\n",
    "Ans:- Passing list variable as argument in tuple() will convert list values in tuple.\n",
    "      Passing tuple variable as argument in list() will convert tuple values in  list."
   ]
  },
  {
   "cell_type": "code",
   "execution_count": null,
   "metadata": {},
   "outputs": [],
   "source": [
    "16.) Variables that \"contain\" list values are not necessarily lists themselves. Instead, what do they\n",
    "contain?\n",
    "\n",
    "Ans:- They contain references of list rathar than list values themselves.\n",
    "      Python uses references whenever variables must store values of mutable data types, such as lists or dictionaries. \n",
    "      For values of immutable data types such as strings, integers, or tuples, Python variables will store the value itself."
   ]
  },
  {
   "cell_type": "code",
   "execution_count": null,
   "metadata": {},
   "outputs": [],
   "source": [
    "17.) How do you distinguish between copy.copy() and copy.deepcopy()?\n",
    "\n",
    "Ans:-The difference between shallow and deep copying is only relevant for compound objects (objects that contain other objects, \n",
    "     like lists or class instances):-\n",
    "        \n",
    "     A shallow copy means constructing a new collection object and then populating it with references to the child objects found in the original. \n",
    "     The copying process does not recurse and therefore won’t create copies of the child objects themselves. \n",
    "     In case of shallow copy, a reference of object is copied in other object. It means that any changes made to a copy of object do reflect \n",
    "     in the original object. In python, this is implemented using “copy()” function.\n",
    "     \n",
    "    Deep copy is a process in which the copying process occurs recursively. It means first constructing a new collection object and \n",
    "    then recursively populating it with copies of the child objects found in the original. In case of deep copy, a copy of object is \n",
    "    copied in other object. It means that any changes made to a copy of object do not reflect in the original object. \n",
    "    In python, this is implemented using “deepcopy()” function."
   ]
  },
  {
   "cell_type": "code",
   "execution_count": null,
   "metadata": {},
   "outputs": [],
   "source": []
  },
  {
   "cell_type": "code",
   "execution_count": null,
   "metadata": {},
   "outputs": [],
   "source": []
  }
 ],
 "metadata": {
  "kernelspec": {
   "display_name": "Python 3",
   "language": "python",
   "name": "python3"
  },
  "language_info": {
   "codemirror_mode": {
    "name": "ipython",
    "version": 3
   },
   "file_extension": ".py",
   "mimetype": "text/x-python",
   "name": "python",
   "nbconvert_exporter": "python",
   "pygments_lexer": "ipython3",
   "version": "3.8.5"
  }
 },
 "nbformat": 4,
 "nbformat_minor": 4
}
