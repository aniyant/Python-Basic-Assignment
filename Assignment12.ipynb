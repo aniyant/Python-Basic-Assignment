{
 "cells": [
  {
   "cell_type": "markdown",
   "metadata": {},
   "source": [
    "#### Assignment 12 of the python basic assignment"
   ]
  },
  {
   "cell_type": "code",
   "execution_count": null,
   "metadata": {},
   "outputs": [],
   "source": [
    "1.) In what modes should the PdfFileReader() and PdfFileWriter() File objects will be opened?\n",
    "\n",
    "Ans:- PdfFileReader() should open the file in read-binary mode- 'rb' mode.\n",
    "      PdfFileWriter() should open the file in write-binary mode-'wb' mode."
   ]
  },
  {
   "cell_type": "code",
   "execution_count": null,
   "metadata": {},
   "outputs": [],
   "source": [
    "2.) From a PdfFileReader object, how do you get a Page object for page 5?\n",
    "\n",
    "Ans:- fileObj = open('xyz.pdf','rb')  # this is pdf file object\n",
    "      pdf_reader = PyPDF2.PdfFileReader(fileObj) # this is pdf object\n",
    "      page_obj = pdf_reader.getPage(5)      # this is Page object for page 5\n",
    "    \n",
    "      And we can extract text from page object like this:- page_obj.extractText()"
   ]
  },
  {
   "cell_type": "code",
   "execution_count": null,
   "metadata": {},
   "outputs": [],
   "source": [
    "3.) What PdfFileReader variable stores the number of pages in the PDF document?\n",
    "\n",
    "Ans:- numPages is the instance which contains the number of pages in the PDF document."
   ]
  },
  {
   "cell_type": "code",
   "execution_count": null,
   "metadata": {},
   "outputs": [],
   "source": [
    "4.) If a PdfFileReader object’s PDF is encrypted with the password swordfish, what must you do\n",
    "before you can obtain Page objects from it?\n",
    "\n",
    "Ans:- if a PdfFileReader object's pdf is encrypted we can check it using this:-\n",
    "      PdfFileReader_object.isEncrypted() if it return true.Then we need to decrypt it using password \n",
    "      like PdfFileReader_object.decrypt('password') before opening it.\n",
    "        "
   ]
  },
  {
   "cell_type": "code",
   "execution_count": null,
   "metadata": {},
   "outputs": [],
   "source": [
    "5.) What methods do you use to rotate a page?\n",
    "\n",
    "Ans:- After creating page_object of the particular page. We can rotate it like this page_object.rotateClockwise(rotation) where rotation is the angle."
   ]
  },
  {
   "cell_type": "code",
   "execution_count": null,
   "metadata": {},
   "outputs": [],
   "source": [
    "6.) What is the difference between a Run object and a Paragraph object?\n",
    "\n",
    "Ans:- Document object contains the paragraph object which contains text of new line.\n",
    "      Whereas Run object are contained by paragraph object.Run objects can be one or more.\n",
    "      Run object is a contiguous run of text with same style."
   ]
  },
  {
   "cell_type": "code",
   "execution_count": null,
   "metadata": {},
   "outputs": [],
   "source": [
    "7.) How do you obtain a list of Paragraph objects for a Document object that’s stored in a variable\n",
    "named doc?\n",
    "\n",
    "Ans:- doc = Document('document.docx')\n",
    "      lst_of_paragraphs_objects = doc.paragraphs  # This is obtain the list of paragraphs\n",
    "    "
   ]
  },
  {
   "cell_type": "code",
   "execution_count": null,
   "metadata": {},
   "outputs": [],
   "source": [
    "8.) What type of object has bold, underline, italic, strike, and outline variables?\n",
    "\n",
    "Ans:- Run object has bold,underline,italic ,strike and outline variables."
   ]
  },
  {
   "cell_type": "code",
   "execution_count": null,
   "metadata": {},
   "outputs": [],
   "source": [
    "9.) What is the difference between False,True and None for the bold variable?\n",
    "\n",
    "Ans:- False will set the atrribute of bold variable to disabled Whereas in True set attribute of bold variable will be enabled no matter what other \n",
    "      styles get applied and for None the bold variable will be continue to be bold."
   ]
  },
  {
   "cell_type": "code",
   "execution_count": null,
   "metadata": {},
   "outputs": [],
   "source": [
    "10.) How do you create a Document object for a new Word document?\n",
    "\n",
    "Ans:- doc = docx.Document()  # This is the document object\n",
    "      doc.add_paragraph('This is first paragraph') # adding paragraph into doc object\n",
    "      doc.save('newdocument.docx')  # Saving the new document in the docx file"
   ]
  },
  {
   "cell_type": "code",
   "execution_count": null,
   "metadata": {},
   "outputs": [],
   "source": [
    "11.) How do you add a paragraph with the text 'Hello, there!' to a Document object stored in a\n",
    "variable named doc?\n",
    "\n",
    "Ans:- doc.add_paragraph('Hello,there!') # this will add the paragraph into document object doc"
   ]
  },
  {
   "cell_type": "code",
   "execution_count": null,
   "metadata": {},
   "outputs": [],
   "source": [
    "12.) What integers represent the levels of headings available in Word documents?\n",
    "\n",
    "Ans:- Integers 1 to 4 represent various heading levels, with 1 being the main heading and 4 the lowest subheading available in word docuement."
   ]
  }
 ],
 "metadata": {
  "kernelspec": {
   "display_name": "Python 3",
   "language": "python",
   "name": "python3"
  },
  "language_info": {
   "codemirror_mode": {
    "name": "ipython",
    "version": 3
   },
   "file_extension": ".py",
   "mimetype": "text/x-python",
   "name": "python",
   "nbconvert_exporter": "python",
   "pygments_lexer": "ipython3",
   "version": "3.8.5"
  }
 },
 "nbformat": 4,
 "nbformat_minor": 4
}
