{
 "cells": [
  {
   "cell_type": "markdown",
   "metadata": {},
   "source": [
    "#### Assignment 6 of python basic assignment"
   ]
  },
  {
   "cell_type": "code",
   "execution_count": null,
   "metadata": {},
   "outputs": [],
   "source": [
    "1.) What are escape characters, and how do you use them?\n",
    "\n",
    "Ans:-  The backslash \"\\\" is a special character, also called as \"escape\" character. \n",
    "       It is used in representing certain whitespace characters like \"\\t\" for tab and\n",
    "       \"\\n\" for newline. We use them inside the string under double quote.Ex- \"\\n\" interpreter will interprete this as newline."
   ]
  },
  {
   "cell_type": "code",
   "execution_count": null,
   "metadata": {},
   "outputs": [],
   "source": [
    "2.) What do the escape characters n and t stand for?\n",
    "\n",
    "Ans:- The \"\\n\" stands for newline and \"\\t\" stand for tab."
   ]
  },
  {
   "cell_type": "code",
   "execution_count": null,
   "metadata": {},
   "outputs": [],
   "source": [
    "3.) What is the way to include backslash characters in a string?\n",
    "\n",
    "Ans:- To include backslash character in a string, one backslash must follow another like this \"\\\\\"."
   ]
  },
  {
   "cell_type": "code",
   "execution_count": null,
   "metadata": {},
   "outputs": [],
   "source": [
    "4.) The string \"Howl's Moving Castle\" is a correct value. Why isn't the single quote character in the\n",
    "    word Howl's not escaped a problem?\n",
    "\n",
    "Ans:- Python allows us to use single quote inside the double quotes without escaping it with backslash."
   ]
  },
  {
   "cell_type": "code",
   "execution_count": null,
   "metadata": {},
   "outputs": [],
   "source": [
    "5.) How do you write a string of newlines if you don't want to use the n character?\n",
    "\n",
    "Ans:- We have to put the string of newlines in the print() function again and again to to print it in newline without using n character. As\n",
    "      print() automatically starts printing in new line always."
   ]
  },
  {
   "cell_type": "code",
   "execution_count": null,
   "metadata": {},
   "outputs": [],
   "source": [
    "6.) What are the values of the given expressions?\n",
    "    'Hello, world!'[1]\n",
    "    'Hello, world!'[0:5]\n",
    "    'Hello, world!'[:5]\n",
    "    'Hello, world!'[3:]\n",
    "\n",
    "Ans:- 'Hello, world!'[1] output - H\n",
    "      'Hello, world!'[0:5] output - Hello\n",
    "      'Hello, world!'[:5]  output - Hello\n",
    "      'Hello, world!'[3:] output - lo, world!"
   ]
  },
  {
   "cell_type": "code",
   "execution_count": null,
   "metadata": {},
   "outputs": [],
   "source": [
    "7.) What are the values of the following expressions?\n",
    "    'Hello'.upper()\n",
    "    'Hello'.upper().isupper()\n",
    "    'Hello'.upper().lower()\n",
    "\n",
    "Ans:- 'Hello'.upper() output - HELLO\n",
    "      'Hello'.upper().isupper() output - True\n",
    "      'Hello'.upper().lower()  output - hello"
   ]
  },
  {
   "cell_type": "code",
   "execution_count": null,
   "metadata": {},
   "outputs": [],
   "source": [
    "8.) What are the values of the following expressions?\n",
    "\n",
    "    'Remember, remember, the fifth of July.'.split()\n",
    "    '-'.join('There can only one.'.split())\n",
    "\n",
    "Ans:- ['Remember,', 'remember,', 'the', 'fifth', 'of', 'July.'] output for first expression of the above question.\n",
    "      'There-can-only-one.' output for second expression."
   ]
  },
  {
   "cell_type": "code",
   "execution_count": null,
   "metadata": {},
   "outputs": [],
   "source": [
    "9.) What are the methods for right-justifying,left-justifying and centering a string.?\n",
    "\n",
    "Ans:- rjust(width,fillchar=\"\") method is used for right-justifying Ex.\"sunny kumar\".rjust(40)\n",
    "      ljust(width,fillchar= \"\")method is used for left-justifying Ex.\"sunny kumar\".ljust(40)\n",
    "      center(width,fillcahr = '') method is used for centering Ex. \"sunny kumar\".center(40)"
   ]
  },
  {
   "cell_type": "code",
   "execution_count": null,
   "metadata": {},
   "outputs": [],
   "source": [
    "10.) What is the best way to remove whitespace characters from the start or end?\n",
    "\n",
    "Ans:- We can use split function to remove whitespace from the start or end of the string.\n",
    "      Ex- \"  sunny kumar   \".strip() will produce 'sunny kumar'"
   ]
  },
  {
   "cell_type": "code",
   "execution_count": null,
   "metadata": {},
   "outputs": [],
   "source": []
  }
 ],
 "metadata": {
  "kernelspec": {
   "display_name": "Python 3",
   "language": "python",
   "name": "python3"
  },
  "language_info": {
   "codemirror_mode": {
    "name": "ipython",
    "version": 3
   },
   "file_extension": ".py",
   "mimetype": "text/x-python",
   "name": "python",
   "nbconvert_exporter": "python",
   "pygments_lexer": "ipython3",
   "version": "3.8.5"
  }
 },
 "nbformat": 4,
 "nbformat_minor": 4
}
