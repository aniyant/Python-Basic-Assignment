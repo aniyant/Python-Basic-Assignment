{
 "cells": [
  {
   "cell_type": "markdown",
   "metadata": {},
   "source": [
    "#### Assignment_1 of python basic assignment"
   ]
  },
  {
   "cell_type": "raw",
   "metadata": {},
   "source": [
    "1.) In the below elements which of them are values or an expression? eg:-values can be integer or string and expressions will be mathematical operators.\n",
    "\n",
    "Ans:-  * is an expression\n",
    "       \n",
    "        'hello' is a value\n",
    "        \n",
    "        -87.8 is a value\n",
    "        \n",
    "        - is an expression\n",
    "        \n",
    "        / is an expression\n",
    "        \n",
    "        + is an expression\n",
    " \n",
    "        6 is a value\n",
    "     "
   ]
  },
  {
   "cell_type": "raw",
   "metadata": {},
   "source": [
    "2.) What is the difference between string and variable?\n",
    "\n",
    "Ans:- i) string is the one of the data type availabe in python. Any number of characters (it may consists alphabet          or number or special character) which     d      goes inside the single or double quotes known as string             data type.\n",
    "         Variables are the combination of characters created on the basis of predefined rules set by python. Ex-            12name is not variable whereas name12 or na12me can be used as variables.\n",
    "\n",
    "    ii) string is the data which can be used as input and produced as output by the program.\n",
    "        Variables are the pointers or can said as location name for the physical memory where the input data or output data is stored.\n",
    "       \n",
    "    iii) string characters are indexed which starts from 0 for the first character.\n",
    "         Variables are not indexed they behaved as reference for the memory location.\n",
    "    \n",
    "    iv)  string characters are immutable as we can't change their characters with other characters.\n",
    "         Variables values can be changed as many times as program needs.\n",
    "         \n",
    "     v) Examples of string are as: 'hello',\"34jljj34357\",'434','@#*erlj\" etc.\n",
    "        Examples of variables are as : sdhfk = 'jjsld',dfsdh3434 = 4434 etc.\n",
    "         "
   ]
  },
  {
   "cell_type": "raw",
   "metadata": {},
   "source": [
    "3.) Describe three different data types ?\n",
    "\n",
    "Ans:- i) int - int data type consists of all the combination of numberic digits. Ex-3434,3434344,001322\n",
    "\n",
    "ii) list - list is the collection of data and data can be of any available data type of python.List is unordered and indexed data collection.List is mutable data type. Ex- [343,[343,\"dhs\"],{\"sdk\",4+5j},\"mango\",(34,\"fdljk\"),34.34]\n",
    "\n",
    "iii) Bool - Bool is the data type which can only have either True or False as values. True represent 1 and False represent 0 in python. Bool data type is used as many place such as in if-else condition inside the program.\n"
   ]
  },
  {
   "cell_type": "raw",
   "metadata": {},
   "source": [
    "4.) What is an expression made up of ? What do all expressions do ?\n",
    "   \n",
    "Ans:- Expression is made up of data and operators. 35+89+43*5-3,'sdjkf'+'jlsd',80 > 30 are some of the examples of expression.\n",
    "Expression contains data and operators which gets evaluated by python to produce some other value. So expression just get evaluated into other value during the execution of program that's role of expression have in program."
   ]
  },
  {
   "cell_type": "raw",
   "metadata": {},
   "source": [
    "5.) This assignment statement like, spam = 10. What is the difference between an expression and a statement?\n",
    "\n",
    "Ans:- An Expression is the combination of data called operands and operators whereas statement is the instruction which contains commands of the program.\n",
    "An Expression is usually found as the part of the statement. spam = 10 is a statement but do not contain expression, spam = 10+59 in this statement 10+59 is an expression."
   ]
  },
  {
   "cell_type": "raw",
   "metadata": {},
   "source": [
    "6.) After running the following code, what does the variable bacon contain?\n",
    "    bacon = 22\n",
    "    bacon + 1\n",
    "\n",
    "Ans:- The variable bacon will contain the same value which is 22. As bacon variable must be assigned new value in order to change it which is not happening here."
   ]
  },
  {
   "cell_type": "raw",
   "metadata": {},
   "source": [
    "7.) What should the values of the following two terms be?\n",
    "    'spam' + 'spamspam'\n",
    "    'spam' * 3\n",
    "    \n",
    "Ans:- 'spam'+'spamspam' will produce 'spamspamspam'.\n",
    "      'spam' * 3 will also produce 'spamspamspam' in python."
   ]
  },
  {
   "cell_type": "raw",
   "metadata": {},
   "source": [
    "8.) Why is eggs a valid variable name while 100 is invalid?\n",
    "\n",
    "Ans:- As per naming convention rules of variables in python, a variable name must not contain numeric digit for the first character. so eggs is a valid but 100 is invalid variable."
   ]
  },
  {
   "cell_type": "raw",
   "metadata": {},
   "source": [
    "9.) What three function can be used to get the integer, floating-point number, or string version of a value?\n",
    "\n",
    "Ans:- int(data) - data is the value which we have to pass in function\n",
    "      float(data)\n",
    "      str(data)\n",
    "      \n",
    "      Above three function will return the integer,floating-point number and string version of the value."
   ]
  },
  {
   "cell_type": "raw",
   "metadata": {},
   "source": [
    "10.) Why does this expression cause an error? How can you fix it?\n",
    "     'I have eaten'+ 99 + 'burritos'\n",
    "     \n",
    "Ans:- The expression mentioned in question will cause error called as TypeError as here we       are trying to concatinate 99 which is a integer data type with strings.\n",
    "To fix this we need to change data type of 99 int to string. This can be fix as 'I have eaten' + str(99) + 'burritos'"
   ]
  },
  {
   "cell_type": "code",
   "execution_count": null,
   "metadata": {},
   "outputs": [],
   "source": []
  },
  {
   "cell_type": "code",
   "execution_count": null,
   "metadata": {},
   "outputs": [],
   "source": []
  }
 ],
 "metadata": {
  "kernelspec": {
   "display_name": "Python 3",
   "language": "python",
   "name": "python3"
  },
  "language_info": {
   "codemirror_mode": {
    "name": "ipython",
    "version": 3
   },
   "file_extension": ".py",
   "mimetype": "text/x-python",
   "name": "python",
   "nbconvert_exporter": "python",
   "pygments_lexer": "ipython3",
   "version": "3.8.5"
  }
 },
 "nbformat": 4,
 "nbformat_minor": 4
}
