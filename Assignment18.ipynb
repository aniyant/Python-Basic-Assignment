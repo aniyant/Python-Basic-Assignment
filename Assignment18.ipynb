{
 "cells": [
  {
   "cell_type": "code",
   "execution_count": null,
   "metadata": {},
   "outputs": [],
   "source": [
    "1.) Create a zoo.py file first. Define the hours() function, which prints the string 'Open 9-5 daily'.\n",
    "Then, use the interactive interpreter to import the zoo module and call its hours() function.\n",
    "\n",
    "Ans:- zoo.py file code  # this below code is in zoo.py file which is created in the working directory of interpreter \n",
    "     def hours():\n",
    "        print('Open 9-5 daily.')\n",
    "    \n",
    "    ## the below code in the interpreter \n",
    "    import zoo   # importing zoo module\n",
    "    zoo.hours()   # calling hours() function"
   ]
  },
  {
   "cell_type": "code",
   "execution_count": null,
   "metadata": {},
   "outputs": [],
   "source": [
    "2.) In the interactive interpreter, import the zoo module as menagerie and call its hours() function.\n",
    "\n",
    "Ans:- import zoo as menagerie   # importing zoo as menagerie\n",
    "      menagerie.hours()       # calling hours function"
   ]
  },
  {
   "cell_type": "code",
   "execution_count": null,
   "metadata": {},
   "outputs": [],
   "source": [
    "3.) Using the interpreter, explicitly import and call the hours() function from zoo.\n",
    "\n",
    "Ans:- from zoo import hours  # importing hours() explicitly from zoo\n",
    "      hours()         # calling hours function"
   ]
  },
  {
   "cell_type": "code",
   "execution_count": null,
   "metadata": {},
   "outputs": [],
   "source": [
    "4.) Import the hours() function as info and call it.\n",
    "\n",
    "Ans:- from zoo import hours as info  # importing hours as info\n",
    "      info()"
   ]
  },
  {
   "cell_type": "code",
   "execution_count": null,
   "metadata": {},
   "outputs": [],
   "source": [
    "5.) Create a plain dictionary with the key-value pairs 'a': 1, 'b': 2, and 'c': 3, and print it out.\n",
    "\n",
    "Ans:- dictionary = {\n",
    "    'a' : 1,\n",
    "    'b' : 2,\n",
    "    'c' : 3\n",
    "}            "
   ]
  },
  {
   "cell_type": "code",
   "execution_count": null,
   "metadata": {},
   "outputs": [],
   "source": [
    "6.) Make an OrderedDict called fancy from the same pairs listed in 5 and print it. Did it print in the\n",
    "same order as plain?\n",
    "\n",
    "Ans:- from collections import OrderedDict\n",
    "      fancy = OrderedDict({'a':1,'b':2,'c':3})\n",
    "      print(fancy)\n",
    "      yes it will print in the same order unless some insertion happens."
   ]
  },
  {
   "cell_type": "code",
   "execution_count": null,
   "metadata": {},
   "outputs": [],
   "source": [
    "7.) Make a default dictionary called dict_of_lists and pass it the argument list. Make the list\n",
    "dict_of_lists['a'] and append the value 'something for a' to it in one assignment. Print\n",
    "dict_of_lists['a'].\n",
    "\n",
    "Ans:- from collections import defaultdict\n",
    "      dict_of_lists = defaultdict({['a']:'something for a'})\n",
    "      print(dict_of_lists)  \n",
    "      \n",
    "      This will produce Typeerror saying list is unhashable as dictionary won't take list as key."
   ]
  }
 ],
 "metadata": {
  "kernelspec": {
   "display_name": "Python 3",
   "language": "python",
   "name": "python3"
  },
  "language_info": {
   "codemirror_mode": {
    "name": "ipython",
    "version": 3
   },
   "file_extension": ".py",
   "mimetype": "text/x-python",
   "name": "python",
   "nbconvert_exporter": "python",
   "pygments_lexer": "ipython3",
   "version": "3.8.5"
  }
 },
 "nbformat": 4,
 "nbformat_minor": 4
}
