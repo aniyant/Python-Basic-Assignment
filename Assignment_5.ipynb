{
 "cells": [
  {
   "cell_type": "code",
   "execution_count": null,
   "metadata": {},
   "outputs": [],
   "source": [
    "1.) What does an empty dictionary's code look like?\n",
    "\n",
    "Ans:- d = {} statement will produce empty dictionary as output, d is a variable."
   ]
  },
  {
   "cell_type": "code",
   "execution_count": null,
   "metadata": {},
   "outputs": [],
   "source": [
    "2.) What is the value of a dictionary value with the key 'foo' and the value 42?\n",
    "\n",
    "Ans:- Value of a dictionary is {'foo':42}, here 'foo' is the key and 42 is the value of the 'foo'."
   ]
  },
  {
   "cell_type": "code",
   "execution_count": null,
   "metadata": {},
   "outputs": [],
   "source": [
    "3.) What is the most significant distinction between a dictionary and a list?\n",
    "\n",
    "Ans:- Dictionary is a collection of a key and value pairs but list is a just\n",
    "      a collection of data element.\n",
    "      Dictionary value is accessed through key but list values are accessed using\n",
    "      index value."
   ]
  },
  {
   "cell_type": "code",
   "execution_count": null,
   "metadata": {},
   "outputs": [],
   "source": [
    "4.) What happens if you try to access spam['foo'] if spam is {'bar':100} ?\n",
    "\n",
    "Ans:- It will produce keyError."
   ]
  },
  {
   "cell_type": "code",
   "execution_count": null,
   "metadata": {},
   "outputs": [],
   "source": [
    "5.) If a dictionary is stored in spam, what is the difference between the \n",
    "    expressions 'cat' in spam and 'cat' in spam.keys()?\n",
    "\n",
    "Ans:- 'cat' might act as key or value in the dictionary spam but if it act as key\n",
    "       in the dictionary then it will be output as a value of list in the dict_keys(['cat']).\n",
    "       And if 'cat' acts as a value in the dictionary it won't appear in the output."
   ]
  },
  {
   "cell_type": "code",
   "execution_count": null,
   "metadata": {},
   "outputs": [],
   "source": [
    "6.) If a dictionary is stored in spam, what is the difference between the expressions 'cat' in spam and\n",
    "    'cat' in spam.values()?\n",
    "    \n",
    "Ans:- 'cat' might act as key or value in the dictionary spam but if it act as value\n",
    "       in the dictionary then it will be output as a value of list in the dict_values(['cat']).\n",
    "       And if 'cat' acts as a key in the dictionary it won't appear in the output."
   ]
  },
  {
   "cell_type": "code",
   "execution_count": null,
   "metadata": {},
   "outputs": [],
   "source": [
    "7.) What is a shortcut for the following code?\n",
    "     if 'color' is not in spam:\n",
    "        spam['color'] = 'black'\n",
    "        \n",
    "Ans:- The above written code will produced a syntax error because is is a identity\n",
    "      operator which checks two object is same or not and so this is used with not in\n",
    "      operator which is membership operator.So two operator simultaneouly can't work this way.Hence,\n",
    "      syntax error. The proper code is below:-\n",
    "            if 'color' not in spam:\n",
    "                spam['color'] = 'black'"
   ]
  },
  {
   "cell_type": "code",
   "execution_count": null,
   "metadata": {},
   "outputs": [],
   "source": [
    "8.) How do you 'pretty print' dictionary values using which module and function?\n",
    "\n",
    "Ans:- pprint is the module which has the function pprint() used to print the given object like dictionary in to very clean and pretty way.\n",
    "      Below is the example:-\n",
    "    \n",
    "import pprint\n",
    "\n",
    "dct_arr = [\n",
    "  {'Name': 'John', 'Age': '23', 'Country': 'USA'},\n",
    "  {'Name': 'Jose', 'Age': '44', 'Country': 'Spain'},\n",
    "  {'Name': 'Anne', 'Age': '29', 'Country': 'UK'},\n",
    "  {'Name': 'Lee', 'Age': '35', 'Country': 'Japan'}\n",
    "]\n",
    "\n",
    "pprint.pprint(dct_arr)\n",
    "print(dct_arr)"
   ]
  },
  {
   "cell_type": "code",
   "execution_count": null,
   "metadata": {},
   "outputs": [],
   "source": []
  },
  {
 "metadata": {
  "kernelspec": {
   "display_name": "Python 3",
   "language": "python",
   "name": "python3"
  },
  "language_info": {
   "codemirror_mode": {
    "name": "ipython",
    "version": 3
   },
   "file_extension": ".py",
   "mimetype": "text/x-python",
   "name": "python",
   "nbconvert_exporter": "python",
   "pygments_lexer": "ipython3",
   "version": "3.8.5"
  }
 },
 "nbformat": 4,
 "nbformat_minor": 4
}
