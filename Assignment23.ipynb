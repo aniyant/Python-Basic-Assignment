{
 "cells": [
  {
   "cell_type": "markdown",
   "metadata": {},
   "source": [
    "1. What is the result of the code, and why?\n",
    "def func(a, b=6, c=8):\n",
    "    print(a, b, c)\n",
    "func(1, 2)"
   ]
  },
  {
   "cell_type": "code",
   "execution_count": 1,
   "metadata": {},
   "outputs": [
    {
     "name": "stdout",
     "output_type": "stream",
     "text": [
      "1 2 8\n"
     ]
    }
   ],
   "source": [
    "def func(a, b=6, c=8):  # function has 3 arguments out of two b and  c have default value as well.\n",
    "    print(a, b, c)\n",
    "func(1, 2)  # so even if we give 2 values and leave one default argument function will get executed with default value.\n",
    "\n",
    "# output - 1 2 3 "
   ]
  },
  {
   "cell_type": "markdown",
   "metadata": {},
   "source": [
    "2. What is the result of this code, and why?\n",
    "def func(a, b, c=5):\n",
    "    print(a, b, c)\n",
    "func(1, c=3, b=2)"
   ]
  },
  {
   "cell_type": "code",
   "execution_count": 24,
   "metadata": {},
   "outputs": [
    {
     "name": "stdout",
     "output_type": "stream",
     "text": [
      "1 2 3\n"
     ]
    }
   ],
   "source": [
    "def func(a, b, c=5):  # this is function have 3 args out of which c have default value\n",
    "    print(a, b, c)    # This will print the values\n",
    "func(1, c=3, b=2)     # while calling function we have the order of args but we are passing the value like c='3' and b='2' "
   ]
  },
  {
   "cell_type": "markdown",
   "metadata": {},
   "source": [
    "3. How about this code: what is its result, and why?\n",
    "def func(a, *pargs):\n",
    "    print(a, pargs)\n",
    "func(1, 2, 3) "
   ]
  },
  {
   "cell_type": "code",
   "execution_count": 25,
   "metadata": {},
   "outputs": [
    {
     "name": "stdout",
     "output_type": "stream",
     "text": [
      "1 (2, 3)\n"
     ]
    }
   ],
   "source": [
    "def func(a, *pargs): # this is function in which a is argument but *pargs can take variable number of arguments\n",
    "    print(a, pargs)  # pargs take all argument in a tuple os it will print 1 (2,3)\n",
    "func(1, 2, 3) "
   ]
  },
  {
   "cell_type": "markdown",
   "metadata": {},
   "source": [
    "4. What does this code print, and why?\n",
    "def func(a, **kargs):\n",
    "    print(a, kargs)\n",
    "func(a=1, c=3, b=2)"
   ]
  },
  {
   "cell_type": "code",
   "execution_count": 26,
   "metadata": {},
   "outputs": [
    {
     "name": "stdout",
     "output_type": "stream",
     "text": [
      "1 {'c': 3, 'b': 2}\n"
     ]
    }
   ],
   "source": [
    "def func(a, **kargs): # This function takes an arguement a and **kargs which can take variable number of keyword arguments.\n",
    "    print(a, kargs)   # this kargs is a dictionary and will print as key and value pairs\n",
    "func(a=1, c=3, b=2)  \n",
    "#output is 1 {'c',3,'b':2} which first is normal value of a and dictionary is a value of **kargs"
   ]
  },
  {
   "cell_type": "markdown",
   "metadata": {},
   "source": [
    "5. What gets printed by this, and explain?\n",
    "def func(a, b, c=8, d=5): \n",
    "    print(a, b, c, d)\n",
    "func(1, *(5, 6))"
   ]
  },
  {
   "cell_type": "code",
   "execution_count": 27,
   "metadata": {},
   "outputs": [
    {
     "name": "stdout",
     "output_type": "stream",
     "text": [
      "1 5 6 9\n"
     ]
    }
   ],
   "source": [
    "def func(a, b, c=8, d=9):  \n",
    "    print(a, b, c, d)\n",
    "func(1, *(5,6))  # we passing arg in the form *(5,6) which pass 5,6 as value to the whater argument have in the function"
   ]
  },
  {
   "cell_type": "markdown",
   "metadata": {},
   "source": [
    "6. what is the result of this, and explain?\n",
    "def func(a, b, c): a = 2; b[0] = 'x'; c['a'] = y\n",
    "l=1; m=[1]; n={a:0}\n",
    "func(l, m, n)"
   ]
  },
  {
   "cell_type": "code",
   "execution_count": 28,
   "metadata": {},
   "outputs": [
    {
     "name": "stdout",
     "output_type": "stream",
     "text": [
      "1\n",
      "['x']\n",
      "{'a': 'y'}\n"
     ]
    }
   ],
   "source": [
    "def func(a, b, c): \n",
    "    a = 2       # this is local variable is getting the value\n",
    "    b[0] = 'x'  # here b is a reference pointer which actually operation performent on the same passed list\n",
    "    c['a'] = 'y'  # here b is a reference pointer of the passed dictionary of it will affect the actual dictionary.\n",
    "l=1\n",
    "m=[1]\n",
    "n={'a':0}\n",
    "func(l, m, n)\n",
    "# printing the values to see changes\n",
    "print(l)\n",
    "print(m)\n",
    "print(n)\n",
    "\n",
    "# l = 1 this variable l is not changed \n",
    "# m = ['x'] this list value at 0 index has been changed by the function.\n",
    "# n = {'a' : 'y'} this dictionary value of key 'a' change by the function code."
   ]
  },
  {
   "cell_type": "code",
   "execution_count": null,
   "metadata": {},
   "outputs": [],
   "source": []
  }
 ],
 "metadata": {
  "kernelspec": {
   "display_name": "Python 3",
   "language": "python",
   "name": "python3"
  },
  "language_info": {
   "codemirror_mode": {
    "name": "ipython",
    "version": 3
   },
   "file_extension": ".py",
   "mimetype": "text/x-python",
   "name": "python",
   "nbconvert_exporter": "python",
   "pygments_lexer": "ipython3",
   "version": "3.8.5"
  }
 },
 "nbformat": 4,
 "nbformat_minor": 4
}
