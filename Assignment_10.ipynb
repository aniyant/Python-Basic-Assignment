{
 "cells": [
  {
   "cell_type": "markdown",
   "metadata": {},
   "source": [
    "#### Assignment 10 of python basic assignment"
   ]
  },
  {
   "cell_type": "code",
   "execution_count": null,
   "metadata": {},
   "outputs": [],
   "source": [
    "1.) How do you distinguish between shutil.copy() and shutil.copytree()?\n",
    "\n",
    "Ans:- shutil.copy() will copy a single file whereas shutil.copytree() will copy an entire folder and every folder and file contained in it."
   ]
  },
  {
   "cell_type": "code",
   "execution_count": null,
   "metadata": {},
   "outputs": [],
   "source": [
    "2.) What function is used to rename files?\n",
    "\n",
    "Ans:- After importing os, we can us os.rename() to rename files. We can also achieve this using shutil.move() function."
   ]
  },
  {
   "cell_type": "code",
   "execution_count": null,
   "metadata": {},
   "outputs": [],
   "source": [
    "3.) What is the difference between the delete functions in the send2trash and shutil modules?\n",
    "\n",
    "Ans:- The send2trash functions will move a file or folder to the recycle bin, while shutil functions will permanently delete files and folders."
   ]
  },
  {
   "cell_type": "code",
   "execution_count": null,
   "metadata": {},
   "outputs": [],
   "source": [
    "4.) ZipFile objects have a close() method just like File objects’ close() method. What ZipFile method is\n",
    "    equivalent to File objects’ open() method?\n",
    "    \n",
    "Ans:- ZipFile objects have ZipFile.open() method  equivalent to file object open method."
   ]
  },
  {
   "cell_type": "code",
   "execution_count": null,
   "metadata": {},
   "outputs": [],
   "source": [
    "5.) Create a programme that searches a folder tree for files with a certain file extension (such as .pdf\n",
    "or .jpg). Copy these files from whatever location they are in to a new folder.\n",
    "\n",
    "Ans:- \n",
    "import os\n",
    "import shutil\n",
    "for folder,subfolder,filename in os.walk(\"D:\\khan academy\"):\n",
    "    print(folder)\n",
    "    print(subfolder)\n",
    "    print(filename)\n",
    "    for i in filename:\n",
    "        if i.endswith('.pdf'):\n",
    "            print(i)\n",
    "            src = folder+'\\\\'+i\n",
    "            shutil.move(src,'E:\\\\')"
   ]
  },
  {
   "cell_type": "code",
   "execution_count": null,
   "metadata": {},
   "outputs": [],
   "source": []
  }
 ],
 "metadata": {
  "kernelspec": {
   "display_name": "Python 3",
   "language": "python",
   "name": "python3"
  },
  "language_info": {
   "codemirror_mode": {
    "name": "ipython",
    "version": 3
   },
   "file_extension": ".py",
   "mimetype": "text/x-python",
   "name": "python",
   "nbconvert_exporter": "python",
   "pygments_lexer": "ipython3",
   "version": "3.8.5"
  }
 },
 "nbformat": 4,
 "nbformat_minor": 4
}
